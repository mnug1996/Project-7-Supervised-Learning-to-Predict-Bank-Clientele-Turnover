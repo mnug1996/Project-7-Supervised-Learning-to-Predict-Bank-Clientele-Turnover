{
 "cells": [
  {
   "cell_type": "markdown",
   "metadata": {},
   "source": [
    "# Beta Supervised Learning Report\n",
    "\n",
    "**The objective is to create a model that if a customer will leave the bank based on past client behavior. A model with a high F1 score (at least 0.59). The following steps will be used to achieve the objective:**\n",
    "\n",
    "Step 1.Download and prepare the data. Explain the procedure.\n",
    "\n",
    "Step 2. Examine the balance of classes. Train the model without taking into account the imbalance. Briefly describe your findings.\n",
    "\n",
    "Step 3. Improve the quality of the model. Make sure you use at least two approaches to fixing class imbalance. Use the training set to pick the best parameters. Train different models on training and validation sets. Find the best one. Briefly describe your findings.\n",
    "\n",
    "Step 4. Perform the final testing\n",
    "\n",
    "Step 5. Form a general conclusion"
   ]
  },
  {
   "cell_type": "markdown",
   "metadata": {},
   "source": [
    "## Download and prepare the data. Explain the procedure"
   ]
  },
  {
   "cell_type": "code",
   "execution_count": 1,
   "metadata": {
    "scrolled": true
   },
   "outputs": [
    {
     "name": "stdout",
     "output_type": "stream",
     "text": [
      "<class 'pandas.core.frame.DataFrame'>\n",
      "RangeIndex: 10000 entries, 0 to 9999\n",
      "Data columns (total 14 columns):\n",
      "RowNumber          10000 non-null int64\n",
      "CustomerId         10000 non-null int64\n",
      "Surname            10000 non-null object\n",
      "CreditScore        10000 non-null int64\n",
      "Geography          10000 non-null object\n",
      "Gender             10000 non-null object\n",
      "Age                10000 non-null int64\n",
      "Tenure             9091 non-null float64\n",
      "Balance            10000 non-null float64\n",
      "NumOfProducts      10000 non-null int64\n",
      "HasCrCard          10000 non-null int64\n",
      "IsActiveMember     10000 non-null int64\n",
      "EstimatedSalary    10000 non-null float64\n",
      "Exited             10000 non-null int64\n",
      "dtypes: float64(3), int64(8), object(3)\n",
      "memory usage: 1.1+ MB\n"
     ]
    },
    {
     "data": {
      "text/html": [
       "<div>\n",
       "<style scoped>\n",
       "    .dataframe tbody tr th:only-of-type {\n",
       "        vertical-align: middle;\n",
       "    }\n",
       "\n",
       "    .dataframe tbody tr th {\n",
       "        vertical-align: top;\n",
       "    }\n",
       "\n",
       "    .dataframe thead th {\n",
       "        text-align: right;\n",
       "    }\n",
       "</style>\n",
       "<table border=\"1\" class=\"dataframe\">\n",
       "  <thead>\n",
       "    <tr style=\"text-align: right;\">\n",
       "      <th></th>\n",
       "      <th>RowNumber</th>\n",
       "      <th>CustomerId</th>\n",
       "      <th>Surname</th>\n",
       "      <th>CreditScore</th>\n",
       "      <th>Geography</th>\n",
       "      <th>Gender</th>\n",
       "      <th>Age</th>\n",
       "      <th>Tenure</th>\n",
       "      <th>Balance</th>\n",
       "      <th>NumOfProducts</th>\n",
       "      <th>HasCrCard</th>\n",
       "      <th>IsActiveMember</th>\n",
       "      <th>EstimatedSalary</th>\n",
       "      <th>Exited</th>\n",
       "    </tr>\n",
       "  </thead>\n",
       "  <tbody>\n",
       "    <tr>\n",
       "      <td>0</td>\n",
       "      <td>1</td>\n",
       "      <td>15634602</td>\n",
       "      <td>Hargrave</td>\n",
       "      <td>619</td>\n",
       "      <td>France</td>\n",
       "      <td>Female</td>\n",
       "      <td>42</td>\n",
       "      <td>2.0</td>\n",
       "      <td>0.00</td>\n",
       "      <td>1</td>\n",
       "      <td>1</td>\n",
       "      <td>1</td>\n",
       "      <td>101348.88</td>\n",
       "      <td>1</td>\n",
       "    </tr>\n",
       "    <tr>\n",
       "      <td>1</td>\n",
       "      <td>2</td>\n",
       "      <td>15647311</td>\n",
       "      <td>Hill</td>\n",
       "      <td>608</td>\n",
       "      <td>Spain</td>\n",
       "      <td>Female</td>\n",
       "      <td>41</td>\n",
       "      <td>1.0</td>\n",
       "      <td>83807.86</td>\n",
       "      <td>1</td>\n",
       "      <td>0</td>\n",
       "      <td>1</td>\n",
       "      <td>112542.58</td>\n",
       "      <td>0</td>\n",
       "    </tr>\n",
       "    <tr>\n",
       "      <td>2</td>\n",
       "      <td>3</td>\n",
       "      <td>15619304</td>\n",
       "      <td>Onio</td>\n",
       "      <td>502</td>\n",
       "      <td>France</td>\n",
       "      <td>Female</td>\n",
       "      <td>42</td>\n",
       "      <td>8.0</td>\n",
       "      <td>159660.80</td>\n",
       "      <td>3</td>\n",
       "      <td>1</td>\n",
       "      <td>0</td>\n",
       "      <td>113931.57</td>\n",
       "      <td>1</td>\n",
       "    </tr>\n",
       "    <tr>\n",
       "      <td>3</td>\n",
       "      <td>4</td>\n",
       "      <td>15701354</td>\n",
       "      <td>Boni</td>\n",
       "      <td>699</td>\n",
       "      <td>France</td>\n",
       "      <td>Female</td>\n",
       "      <td>39</td>\n",
       "      <td>1.0</td>\n",
       "      <td>0.00</td>\n",
       "      <td>2</td>\n",
       "      <td>0</td>\n",
       "      <td>0</td>\n",
       "      <td>93826.63</td>\n",
       "      <td>0</td>\n",
       "    </tr>\n",
       "    <tr>\n",
       "      <td>4</td>\n",
       "      <td>5</td>\n",
       "      <td>15737888</td>\n",
       "      <td>Mitchell</td>\n",
       "      <td>850</td>\n",
       "      <td>Spain</td>\n",
       "      <td>Female</td>\n",
       "      <td>43</td>\n",
       "      <td>2.0</td>\n",
       "      <td>125510.82</td>\n",
       "      <td>1</td>\n",
       "      <td>1</td>\n",
       "      <td>1</td>\n",
       "      <td>79084.10</td>\n",
       "      <td>0</td>\n",
       "    </tr>\n",
       "    <tr>\n",
       "      <td>5</td>\n",
       "      <td>6</td>\n",
       "      <td>15574012</td>\n",
       "      <td>Chu</td>\n",
       "      <td>645</td>\n",
       "      <td>Spain</td>\n",
       "      <td>Male</td>\n",
       "      <td>44</td>\n",
       "      <td>8.0</td>\n",
       "      <td>113755.78</td>\n",
       "      <td>2</td>\n",
       "      <td>1</td>\n",
       "      <td>0</td>\n",
       "      <td>149756.71</td>\n",
       "      <td>1</td>\n",
       "    </tr>\n",
       "    <tr>\n",
       "      <td>6</td>\n",
       "      <td>7</td>\n",
       "      <td>15592531</td>\n",
       "      <td>Bartlett</td>\n",
       "      <td>822</td>\n",
       "      <td>France</td>\n",
       "      <td>Male</td>\n",
       "      <td>50</td>\n",
       "      <td>7.0</td>\n",
       "      <td>0.00</td>\n",
       "      <td>2</td>\n",
       "      <td>1</td>\n",
       "      <td>1</td>\n",
       "      <td>10062.80</td>\n",
       "      <td>0</td>\n",
       "    </tr>\n",
       "    <tr>\n",
       "      <td>7</td>\n",
       "      <td>8</td>\n",
       "      <td>15656148</td>\n",
       "      <td>Obinna</td>\n",
       "      <td>376</td>\n",
       "      <td>Germany</td>\n",
       "      <td>Female</td>\n",
       "      <td>29</td>\n",
       "      <td>4.0</td>\n",
       "      <td>115046.74</td>\n",
       "      <td>4</td>\n",
       "      <td>1</td>\n",
       "      <td>0</td>\n",
       "      <td>119346.88</td>\n",
       "      <td>1</td>\n",
       "    </tr>\n",
       "    <tr>\n",
       "      <td>8</td>\n",
       "      <td>9</td>\n",
       "      <td>15792365</td>\n",
       "      <td>He</td>\n",
       "      <td>501</td>\n",
       "      <td>France</td>\n",
       "      <td>Male</td>\n",
       "      <td>44</td>\n",
       "      <td>4.0</td>\n",
       "      <td>142051.07</td>\n",
       "      <td>2</td>\n",
       "      <td>0</td>\n",
       "      <td>1</td>\n",
       "      <td>74940.50</td>\n",
       "      <td>0</td>\n",
       "    </tr>\n",
       "    <tr>\n",
       "      <td>9</td>\n",
       "      <td>10</td>\n",
       "      <td>15592389</td>\n",
       "      <td>H?</td>\n",
       "      <td>684</td>\n",
       "      <td>France</td>\n",
       "      <td>Male</td>\n",
       "      <td>27</td>\n",
       "      <td>2.0</td>\n",
       "      <td>134603.88</td>\n",
       "      <td>1</td>\n",
       "      <td>1</td>\n",
       "      <td>1</td>\n",
       "      <td>71725.73</td>\n",
       "      <td>0</td>\n",
       "    </tr>\n",
       "  </tbody>\n",
       "</table>\n",
       "</div>"
      ],
      "text/plain": [
       "   RowNumber  CustomerId   Surname  CreditScore Geography  Gender  Age  \\\n",
       "0          1    15634602  Hargrave          619    France  Female   42   \n",
       "1          2    15647311      Hill          608     Spain  Female   41   \n",
       "2          3    15619304      Onio          502    France  Female   42   \n",
       "3          4    15701354      Boni          699    France  Female   39   \n",
       "4          5    15737888  Mitchell          850     Spain  Female   43   \n",
       "5          6    15574012       Chu          645     Spain    Male   44   \n",
       "6          7    15592531  Bartlett          822    France    Male   50   \n",
       "7          8    15656148    Obinna          376   Germany  Female   29   \n",
       "8          9    15792365        He          501    France    Male   44   \n",
       "9         10    15592389        H?          684    France    Male   27   \n",
       "\n",
       "   Tenure    Balance  NumOfProducts  HasCrCard  IsActiveMember  \\\n",
       "0     2.0       0.00              1          1               1   \n",
       "1     1.0   83807.86              1          0               1   \n",
       "2     8.0  159660.80              3          1               0   \n",
       "3     1.0       0.00              2          0               0   \n",
       "4     2.0  125510.82              1          1               1   \n",
       "5     8.0  113755.78              2          1               0   \n",
       "6     7.0       0.00              2          1               1   \n",
       "7     4.0  115046.74              4          1               0   \n",
       "8     4.0  142051.07              2          0               1   \n",
       "9     2.0  134603.88              1          1               1   \n",
       "\n",
       "   EstimatedSalary  Exited  \n",
       "0        101348.88       1  \n",
       "1        112542.58       0  \n",
       "2        113931.57       1  \n",
       "3         93826.63       0  \n",
       "4         79084.10       0  \n",
       "5        149756.71       1  \n",
       "6         10062.80       0  \n",
       "7        119346.88       1  \n",
       "8         74940.50       0  \n",
       "9         71725.73       0  "
      ]
     },
     "metadata": {},
     "output_type": "display_data"
    },
    {
     "data": {
      "text/plain": [
       "None"
      ]
     },
     "metadata": {},
     "output_type": "display_data"
    }
   ],
   "source": [
    "import pandas as pd\n",
    "import numpy as np\n",
    "import matplotlib.pyplot as plt\n",
    "from sklearn.model_selection import train_test_split\n",
    "from sklearn.utils import shuffle\n",
    "from sklearn.preprocessing import StandardScaler\n",
    "from sklearn.metrics import confusion_matrix\n",
    "from sklearn.metrics import recall_score\n",
    "from sklearn.metrics import f1_score\n",
    "from sklearn.metrics import precision_score\n",
    "from sklearn.tree import DecisionTreeClassifier\n",
    "from sklearn.ensemble import RandomForestClassifier\n",
    "from sklearn.linear_model import LogisticRegression \n",
    "from sklearn.metrics import accuracy_score\n",
    "from sklearn.metrics import roc_auc_score\n",
    "from sklearn.metrics import roc_curve\n",
    "\n",
    "data = pd.read_csv('/datasets/Churn.csv')\n",
    "try:\n",
    "    display(data.head(10), data.info())\n",
    "except:\n",
    "    display('cannot read csv')"
   ]
  },
  {
   "cell_type": "code",
   "execution_count": 2,
   "metadata": {},
   "outputs": [
    {
     "data": {
      "text/html": [
       "<div>\n",
       "<style scoped>\n",
       "    .dataframe tbody tr th:only-of-type {\n",
       "        vertical-align: middle;\n",
       "    }\n",
       "\n",
       "    .dataframe tbody tr th {\n",
       "        vertical-align: top;\n",
       "    }\n",
       "\n",
       "    .dataframe thead th {\n",
       "        text-align: right;\n",
       "    }\n",
       "</style>\n",
       "<table border=\"1\" class=\"dataframe\">\n",
       "  <thead>\n",
       "    <tr style=\"text-align: right;\">\n",
       "      <th></th>\n",
       "      <th>CreditScore</th>\n",
       "      <th>Geography</th>\n",
       "      <th>Gender</th>\n",
       "      <th>Age</th>\n",
       "      <th>Tenure</th>\n",
       "      <th>Balance</th>\n",
       "      <th>NumOfProducts</th>\n",
       "      <th>HasCrCard</th>\n",
       "      <th>IsActiveMember</th>\n",
       "      <th>EstimatedSalary</th>\n",
       "      <th>Exited</th>\n",
       "    </tr>\n",
       "  </thead>\n",
       "  <tbody>\n",
       "    <tr>\n",
       "      <td>0</td>\n",
       "      <td>619</td>\n",
       "      <td>France</td>\n",
       "      <td>Female</td>\n",
       "      <td>42</td>\n",
       "      <td>2.0</td>\n",
       "      <td>0.00</td>\n",
       "      <td>1</td>\n",
       "      <td>1</td>\n",
       "      <td>1</td>\n",
       "      <td>101348.88</td>\n",
       "      <td>1</td>\n",
       "    </tr>\n",
       "    <tr>\n",
       "      <td>1</td>\n",
       "      <td>608</td>\n",
       "      <td>Spain</td>\n",
       "      <td>Female</td>\n",
       "      <td>41</td>\n",
       "      <td>1.0</td>\n",
       "      <td>83807.86</td>\n",
       "      <td>1</td>\n",
       "      <td>0</td>\n",
       "      <td>1</td>\n",
       "      <td>112542.58</td>\n",
       "      <td>0</td>\n",
       "    </tr>\n",
       "    <tr>\n",
       "      <td>2</td>\n",
       "      <td>502</td>\n",
       "      <td>France</td>\n",
       "      <td>Female</td>\n",
       "      <td>42</td>\n",
       "      <td>8.0</td>\n",
       "      <td>159660.80</td>\n",
       "      <td>3</td>\n",
       "      <td>1</td>\n",
       "      <td>0</td>\n",
       "      <td>113931.57</td>\n",
       "      <td>1</td>\n",
       "    </tr>\n",
       "    <tr>\n",
       "      <td>3</td>\n",
       "      <td>699</td>\n",
       "      <td>France</td>\n",
       "      <td>Female</td>\n",
       "      <td>39</td>\n",
       "      <td>1.0</td>\n",
       "      <td>0.00</td>\n",
       "      <td>2</td>\n",
       "      <td>0</td>\n",
       "      <td>0</td>\n",
       "      <td>93826.63</td>\n",
       "      <td>0</td>\n",
       "    </tr>\n",
       "    <tr>\n",
       "      <td>4</td>\n",
       "      <td>850</td>\n",
       "      <td>Spain</td>\n",
       "      <td>Female</td>\n",
       "      <td>43</td>\n",
       "      <td>2.0</td>\n",
       "      <td>125510.82</td>\n",
       "      <td>1</td>\n",
       "      <td>1</td>\n",
       "      <td>1</td>\n",
       "      <td>79084.10</td>\n",
       "      <td>0</td>\n",
       "    </tr>\n",
       "  </tbody>\n",
       "</table>\n",
       "</div>"
      ],
      "text/plain": [
       "   CreditScore Geography  Gender  Age  Tenure    Balance  NumOfProducts  \\\n",
       "0          619    France  Female   42     2.0       0.00              1   \n",
       "1          608     Spain  Female   41     1.0   83807.86              1   \n",
       "2          502    France  Female   42     8.0  159660.80              3   \n",
       "3          699    France  Female   39     1.0       0.00              2   \n",
       "4          850     Spain  Female   43     2.0  125510.82              1   \n",
       "\n",
       "   HasCrCard  IsActiveMember  EstimatedSalary  Exited  \n",
       "0          1               1        101348.88       1  \n",
       "1          0               1        112542.58       0  \n",
       "2          1               0        113931.57       1  \n",
       "3          0               0         93826.63       0  \n",
       "4          1               1         79084.10       0  "
      ]
     },
     "execution_count": 2,
     "metadata": {},
     "output_type": "execute_result"
    }
   ],
   "source": [
    "#first, RowNumber, CustomerID, and Surname are all columns that are not relevant as features and should be removed\n",
    "data = data.drop(['RowNumber', 'CustomerId', 'Surname'], axis=1)\n",
    "data.head()"
   ]
  },
  {
   "cell_type": "code",
   "execution_count": 3,
   "metadata": {
    "scrolled": true
   },
   "outputs": [
    {
     "data": {
      "text/plain": [
       "CreditScore          0\n",
       "Geography            0\n",
       "Gender               0\n",
       "Age                  0\n",
       "Tenure             909\n",
       "Balance              0\n",
       "NumOfProducts        0\n",
       "HasCrCard            0\n",
       "IsActiveMember       0\n",
       "EstimatedSalary      0\n",
       "Exited               0\n",
       "dtype: int64"
      ]
     },
     "execution_count": 3,
     "metadata": {},
     "output_type": "execute_result"
    }
   ],
   "source": [
    "data.isnull().sum()"
   ]
  },
  {
   "cell_type": "code",
   "execution_count": 4,
   "metadata": {},
   "outputs": [
    {
     "data": {
      "text/plain": [
       "CreditScore        0.0000\n",
       "Geography          0.0000\n",
       "Gender             0.0000\n",
       "Age                0.0000\n",
       "Tenure             0.0909\n",
       "Balance            0.0000\n",
       "NumOfProducts      0.0000\n",
       "HasCrCard          0.0000\n",
       "IsActiveMember     0.0000\n",
       "EstimatedSalary    0.0000\n",
       "Exited             0.0000\n",
       "dtype: float64"
      ]
     },
     "execution_count": 4,
     "metadata": {},
     "output_type": "execute_result"
    }
   ],
   "source": [
    "#percentage effect of missing data\n",
    "data.isnull().sum()/len(data)\n",
    "#it affects more than 5% of the data -- a representative value (mean) should be used"
   ]
  },
  {
   "cell_type": "code",
   "execution_count": 5,
   "metadata": {},
   "outputs": [
    {
     "data": {
      "text/plain": [
       "CreditScore        0\n",
       "Geography          0\n",
       "Gender             0\n",
       "Age                0\n",
       "Tenure             0\n",
       "Balance            0\n",
       "NumOfProducts      0\n",
       "HasCrCard          0\n",
       "IsActiveMember     0\n",
       "EstimatedSalary    0\n",
       "Exited             0\n",
       "dtype: int64"
      ]
     },
     "execution_count": 5,
     "metadata": {},
     "output_type": "execute_result"
    }
   ],
   "source": [
    "#filling in 0's for the missing Tenure values\n",
    "data['Tenure'] = data['Tenure'].fillna(0).astype('int')\n",
    "data.isnull().sum()\n",
    "#missing values have been successfully filled in"
   ]
  },
  {
   "cell_type": "code",
   "execution_count": 6,
   "metadata": {},
   "outputs": [
    {
     "data": {
      "text/html": [
       "<div>\n",
       "<style scoped>\n",
       "    .dataframe tbody tr th:only-of-type {\n",
       "        vertical-align: middle;\n",
       "    }\n",
       "\n",
       "    .dataframe tbody tr th {\n",
       "        vertical-align: top;\n",
       "    }\n",
       "\n",
       "    .dataframe thead th {\n",
       "        text-align: right;\n",
       "    }\n",
       "</style>\n",
       "<table border=\"1\" class=\"dataframe\">\n",
       "  <thead>\n",
       "    <tr style=\"text-align: right;\">\n",
       "      <th></th>\n",
       "      <th>CreditScore</th>\n",
       "      <th>Age</th>\n",
       "      <th>Tenure</th>\n",
       "      <th>Balance</th>\n",
       "      <th>NumOfProducts</th>\n",
       "      <th>HasCrCard</th>\n",
       "      <th>IsActiveMember</th>\n",
       "      <th>EstimatedSalary</th>\n",
       "      <th>Exited</th>\n",
       "      <th>Geography_France</th>\n",
       "      <th>Geography_Germany</th>\n",
       "      <th>Geography_Spain</th>\n",
       "      <th>Gender_Female</th>\n",
       "      <th>Gender_Male</th>\n",
       "    </tr>\n",
       "  </thead>\n",
       "  <tbody>\n",
       "    <tr>\n",
       "      <td>0</td>\n",
       "      <td>619</td>\n",
       "      <td>42</td>\n",
       "      <td>2</td>\n",
       "      <td>0.00</td>\n",
       "      <td>1</td>\n",
       "      <td>1</td>\n",
       "      <td>1</td>\n",
       "      <td>101348.88</td>\n",
       "      <td>1</td>\n",
       "      <td>1</td>\n",
       "      <td>0</td>\n",
       "      <td>0</td>\n",
       "      <td>1</td>\n",
       "      <td>0</td>\n",
       "    </tr>\n",
       "    <tr>\n",
       "      <td>1</td>\n",
       "      <td>608</td>\n",
       "      <td>41</td>\n",
       "      <td>1</td>\n",
       "      <td>83807.86</td>\n",
       "      <td>1</td>\n",
       "      <td>0</td>\n",
       "      <td>1</td>\n",
       "      <td>112542.58</td>\n",
       "      <td>0</td>\n",
       "      <td>0</td>\n",
       "      <td>0</td>\n",
       "      <td>1</td>\n",
       "      <td>1</td>\n",
       "      <td>0</td>\n",
       "    </tr>\n",
       "    <tr>\n",
       "      <td>2</td>\n",
       "      <td>502</td>\n",
       "      <td>42</td>\n",
       "      <td>8</td>\n",
       "      <td>159660.80</td>\n",
       "      <td>3</td>\n",
       "      <td>1</td>\n",
       "      <td>0</td>\n",
       "      <td>113931.57</td>\n",
       "      <td>1</td>\n",
       "      <td>1</td>\n",
       "      <td>0</td>\n",
       "      <td>0</td>\n",
       "      <td>1</td>\n",
       "      <td>0</td>\n",
       "    </tr>\n",
       "    <tr>\n",
       "      <td>3</td>\n",
       "      <td>699</td>\n",
       "      <td>39</td>\n",
       "      <td>1</td>\n",
       "      <td>0.00</td>\n",
       "      <td>2</td>\n",
       "      <td>0</td>\n",
       "      <td>0</td>\n",
       "      <td>93826.63</td>\n",
       "      <td>0</td>\n",
       "      <td>1</td>\n",
       "      <td>0</td>\n",
       "      <td>0</td>\n",
       "      <td>1</td>\n",
       "      <td>0</td>\n",
       "    </tr>\n",
       "    <tr>\n",
       "      <td>4</td>\n",
       "      <td>850</td>\n",
       "      <td>43</td>\n",
       "      <td>2</td>\n",
       "      <td>125510.82</td>\n",
       "      <td>1</td>\n",
       "      <td>1</td>\n",
       "      <td>1</td>\n",
       "      <td>79084.10</td>\n",
       "      <td>0</td>\n",
       "      <td>0</td>\n",
       "      <td>0</td>\n",
       "      <td>1</td>\n",
       "      <td>1</td>\n",
       "      <td>0</td>\n",
       "    </tr>\n",
       "  </tbody>\n",
       "</table>\n",
       "</div>"
      ],
      "text/plain": [
       "   CreditScore  Age  Tenure    Balance  NumOfProducts  HasCrCard  \\\n",
       "0          619   42       2       0.00              1          1   \n",
       "1          608   41       1   83807.86              1          0   \n",
       "2          502   42       8  159660.80              3          1   \n",
       "3          699   39       1       0.00              2          0   \n",
       "4          850   43       2  125510.82              1          1   \n",
       "\n",
       "   IsActiveMember  EstimatedSalary  Exited  Geography_France  \\\n",
       "0               1        101348.88       1                 1   \n",
       "1               1        112542.58       0                 0   \n",
       "2               0        113931.57       1                 1   \n",
       "3               0         93826.63       0                 1   \n",
       "4               1         79084.10       0                 0   \n",
       "\n",
       "   Geography_Germany  Geography_Spain  Gender_Female  Gender_Male  \n",
       "0                  0                0              1            0  \n",
       "1                  0                1              1            0  \n",
       "2                  0                0              1            0  \n",
       "3                  0                0              1            0  \n",
       "4                  0                1              1            0  "
      ]
     },
     "execution_count": 6,
     "metadata": {},
     "output_type": "execute_result"
    }
   ],
   "source": [
    "#The Gender and Geography features needed to be encoded\n",
    "data = pd.get_dummies(data)\n",
    "data.head()\n"
   ]
  },
  {
   "cell_type": "markdown",
   "metadata": {},
   "source": [
    "### Conclusion \n",
    "\n",
    "1) The data was readable and non-corrupt\n",
    "\n",
    "2) All feature date types looked acceptable -- no conversions necessary\n",
    "\n",
    "3) Missing data was apparant for only one feature -- Tenure -- which was filled in via the mean\n",
    "\n",
    "4) The rest of the data had equal number of rows meaning there was no missing data\n",
    "\n",
    "5) One-hot-encoding was used after qualitative variables were removed\n",
    "\n",
    "6) Once data is split, features need to be scaled because of the large spread in numerical values\n",
    "\n",
    "7) The data is now ready for training"
   ]
  },
  {
   "cell_type": "markdown",
   "metadata": {},
   "source": [
    "## Examine the balance of classes. Train the model without taking into account the imbalance. Briefly describe your findings."
   ]
  },
  {
   "cell_type": "code",
   "execution_count": 7,
   "metadata": {
    "scrolled": false
   },
   "outputs": [
    {
     "data": {
      "text/plain": [
       "(8000, 13)"
      ]
     },
     "metadata": {},
     "output_type": "display_data"
    },
    {
     "data": {
      "text/plain": [
       "(8000,)"
      ]
     },
     "metadata": {},
     "output_type": "display_data"
    },
    {
     "data": {
      "text/plain": [
       "(1000, 13)"
      ]
     },
     "metadata": {},
     "output_type": "display_data"
    },
    {
     "data": {
      "text/plain": [
       "(1000,)"
      ]
     },
     "metadata": {},
     "output_type": "display_data"
    },
    {
     "data": {
      "text/plain": [
       "(1000, 13)"
      ]
     },
     "metadata": {},
     "output_type": "display_data"
    },
    {
     "data": {
      "text/plain": [
       "(1000,)"
      ]
     },
     "metadata": {},
     "output_type": "display_data"
    }
   ],
   "source": [
    "#first split the data (3:1:1 ratio since only the source data exists)\n",
    "train_size = 0.8\n",
    "\n",
    "features = data.drop('Exited', axis=1)\n",
    "target = data['Exited']\n",
    "\n",
    "#train = 60%, rem = remaining 40%\n",
    "features_train, features_rem, target_train, target_rem = train_test_split(features, target, \n",
    "                                                                          train_size=0.8, random_state=12345)\n",
    "\n",
    "#split rem in half: (rem = valid + test)\n",
    "features_valid, features_test, target_valid, target_test = train_test_split(features_rem, target_rem,\n",
    "                                                                           train_size=0.5, random_state=12345)\n",
    "display(features_train.shape, target_train.shape, \n",
    "        features_valid.shape, target_valid.shape,\n",
    "        features_test.shape, target_test.shape)"
   ]
  },
  {
   "cell_type": "code",
   "execution_count": 8,
   "metadata": {},
   "outputs": [
    {
     "name": "stdout",
     "output_type": "stream",
     "text": [
      "      CreditScore       Age    Tenure   Balance  NumOfProducts  HasCrCard  \\\n",
      "454      1.107585  0.011482  0.466088  0.819420      -0.899779  -1.551033   \n",
      "8307    -0.338704 -0.844298 -0.496821  0.923294      -0.899779   0.644731   \n",
      "4811    -0.782922 -1.224645  0.787058 -1.220083       0.811234   0.644731   \n",
      "1132    -0.235398 -0.178692 -1.459730 -1.220083       0.811234   0.644731   \n",
      "9640     1.024940 -0.368865 -0.496821 -1.220083      -0.899779   0.644731   \n",
      "\n",
      "      IsActiveMember  EstimatedSalary  Geography_France  Geography_Germany  \\\n",
      "454         0.960528        -0.757878          0.997503          -0.576965   \n",
      "8307        0.960528        -1.194506          0.997503          -0.576965   \n",
      "4811       -1.041094         0.212357         -1.002503          -0.576965   \n",
      "1132        0.960528         1.239310          0.997503          -0.576965   \n",
      "9640       -1.041094         1.583001          0.997503          -0.576965   \n",
      "\n",
      "      Geography_Spain  Gender_Female  Gender_Male  \n",
      "454         -0.575811       1.090862    -1.090862  \n",
      "8307        -0.575811      -0.916706     0.916706  \n",
      "4811         1.736682       1.090862    -1.090862  \n",
      "1132        -0.575811      -0.916706     0.916706  \n",
      "9640        -0.575811       1.090862    -1.090862  \n"
     ]
    },
    {
     "name": "stderr",
     "output_type": "stream",
     "text": [
      "/opt/conda/lib/python3.7/site-packages/ipykernel_launcher.py:8: SettingWithCopyWarning: \n",
      "A value is trying to be set on a copy of a slice from a DataFrame.\n",
      "Try using .loc[row_indexer,col_indexer] = value instead\n",
      "\n",
      "See the caveats in the documentation: http://pandas.pydata.org/pandas-docs/stable/user_guide/indexing.html#returning-a-view-versus-a-copy\n",
      "  \n",
      "/opt/conda/lib/python3.7/site-packages/pandas/core/indexing.py:494: SettingWithCopyWarning: \n",
      "A value is trying to be set on a copy of a slice from a DataFrame.\n",
      "Try using .loc[row_indexer,col_indexer] = value instead\n",
      "\n",
      "See the caveats in the documentation: http://pandas.pydata.org/pandas-docs/stable/user_guide/indexing.html#returning-a-view-versus-a-copy\n",
      "  self.obj[item] = s\n",
      "/opt/conda/lib/python3.7/site-packages/ipykernel_launcher.py:9: SettingWithCopyWarning: \n",
      "A value is trying to be set on a copy of a slice from a DataFrame.\n",
      "Try using .loc[row_indexer,col_indexer] = value instead\n",
      "\n",
      "See the caveats in the documentation: http://pandas.pydata.org/pandas-docs/stable/user_guide/indexing.html#returning-a-view-versus-a-copy\n",
      "  if __name__ == '__main__':\n",
      "/opt/conda/lib/python3.7/site-packages/pandas/core/indexing.py:494: SettingWithCopyWarning: \n",
      "A value is trying to be set on a copy of a slice from a DataFrame.\n",
      "Try using .loc[row_indexer,col_indexer] = value instead\n",
      "\n",
      "See the caveats in the documentation: http://pandas.pydata.org/pandas-docs/stable/user_guide/indexing.html#returning-a-view-versus-a-copy\n",
      "  self.obj[item] = s\n"
     ]
    }
   ],
   "source": [
    "#Next, features need to be scaled\n",
    "numeric = ['CreditScore', 'Geography_France', 'Geography_Germany', 'Geography_Spain', 'Gender_Female', \n",
    "           'Gender_Male', 'Age', 'Tenure', 'Balance', 'NumOfProducts', \n",
    "          'HasCrCard', 'IsActiveMember', 'EstimatedSalary']\n",
    "\n",
    "scaler = StandardScaler()\n",
    "scaler.fit(features_train[numeric])\n",
    "features_train[numeric] = scaler.transform(features_train[numeric])\n",
    "features_valid[numeric] = scaler.transform(features_valid[numeric])\n",
    "pd.options.mode.chained_assignment = None\n",
    "\n",
    "print(features_train.head())"
   ]
  },
  {
   "cell_type": "markdown",
   "metadata": {},
   "source": [
    "<div class=\"alert alert-block alert-success\">\n",
    "<b>Success:</b> Great that scaler was fitted only on train part!\n",
    "</div>"
   ]
  },
  {
   "cell_type": "code",
   "execution_count": 9,
   "metadata": {},
   "outputs": [
    {
     "name": "stderr",
     "output_type": "stream",
     "text": [
      "/opt/conda/lib/python3.7/site-packages/sklearn/metrics/classification.py:1437: UndefinedMetricWarning: F-score is ill-defined and being set to 0.0 due to no predicted samples.\n",
      "  'precision', 'predicted', average, warn_for)\n",
      "/opt/conda/lib/python3.7/site-packages/sklearn/metrics/classification.py:1437: UndefinedMetricWarning: F-score is ill-defined and being set to 0.0 due to no predicted samples.\n",
      "  'precision', 'predicted', average, warn_for)\n",
      "/opt/conda/lib/python3.7/site-packages/sklearn/metrics/classification.py:1437: UndefinedMetricWarning: F-score is ill-defined and being set to 0.0 due to no predicted samples.\n",
      "  'precision', 'predicted', average, warn_for)\n",
      "/opt/conda/lib/python3.7/site-packages/sklearn/metrics/classification.py:1437: UndefinedMetricWarning: F-score is ill-defined and being set to 0.0 due to no predicted samples.\n",
      "  'precision', 'predicted', average, warn_for)\n"
     ]
    },
    {
     "data": {
      "text/html": [
       "<div>\n",
       "<style scoped>\n",
       "    .dataframe tbody tr th:only-of-type {\n",
       "        vertical-align: middle;\n",
       "    }\n",
       "\n",
       "    .dataframe tbody tr th {\n",
       "        vertical-align: top;\n",
       "    }\n",
       "\n",
       "    .dataframe thead th {\n",
       "        text-align: right;\n",
       "    }\n",
       "</style>\n",
       "<table border=\"1\" class=\"dataframe\">\n",
       "  <thead>\n",
       "    <tr style=\"text-align: right;\">\n",
       "      <th></th>\n",
       "      <th>f1_score</th>\n",
       "      <th>Max_depth</th>\n",
       "      <th>criterion</th>\n",
       "      <th>splitter</th>\n",
       "    </tr>\n",
       "  </thead>\n",
       "  <tbody>\n",
       "    <tr>\n",
       "      <td>18</td>\n",
       "      <td>0.612466</td>\n",
       "      <td>5</td>\n",
       "      <td>entropy</td>\n",
       "      <td>best</td>\n",
       "    </tr>\n",
       "    <tr>\n",
       "      <td>16</td>\n",
       "      <td>0.588235</td>\n",
       "      <td>5</td>\n",
       "      <td>gini</td>\n",
       "      <td>best</td>\n",
       "    </tr>\n",
       "    <tr>\n",
       "      <td>33</td>\n",
       "      <td>0.578249</td>\n",
       "      <td>9</td>\n",
       "      <td>gini</td>\n",
       "      <td>random</td>\n",
       "    </tr>\n",
       "    <tr>\n",
       "      <td>30</td>\n",
       "      <td>0.573003</td>\n",
       "      <td>8</td>\n",
       "      <td>entropy</td>\n",
       "      <td>best</td>\n",
       "    </tr>\n",
       "    <tr>\n",
       "      <td>22</td>\n",
       "      <td>0.567073</td>\n",
       "      <td>6</td>\n",
       "      <td>entropy</td>\n",
       "      <td>best</td>\n",
       "    </tr>\n",
       "    <tr>\n",
       "      <td>32</td>\n",
       "      <td>0.565934</td>\n",
       "      <td>9</td>\n",
       "      <td>gini</td>\n",
       "      <td>best</td>\n",
       "    </tr>\n",
       "    <tr>\n",
       "      <td>21</td>\n",
       "      <td>0.565598</td>\n",
       "      <td>6</td>\n",
       "      <td>gini</td>\n",
       "      <td>random</td>\n",
       "    </tr>\n",
       "    <tr>\n",
       "      <td>4</td>\n",
       "      <td>0.563452</td>\n",
       "      <td>2</td>\n",
       "      <td>gini</td>\n",
       "      <td>best</td>\n",
       "    </tr>\n",
       "    <tr>\n",
       "      <td>6</td>\n",
       "      <td>0.563452</td>\n",
       "      <td>2</td>\n",
       "      <td>entropy</td>\n",
       "      <td>best</td>\n",
       "    </tr>\n",
       "    <tr>\n",
       "      <td>36</td>\n",
       "      <td>0.560847</td>\n",
       "      <td>10</td>\n",
       "      <td>gini</td>\n",
       "      <td>best</td>\n",
       "    </tr>\n",
       "  </tbody>\n",
       "</table>\n",
       "</div>"
      ],
      "text/plain": [
       "    f1_score  Max_depth criterion splitter\n",
       "18  0.612466          5   entropy     best\n",
       "16  0.588235          5      gini     best\n",
       "33  0.578249          9      gini   random\n",
       "30  0.573003          8   entropy     best\n",
       "22  0.567073          6   entropy     best\n",
       "32  0.565934          9      gini     best\n",
       "21  0.565598          6      gini   random\n",
       "4   0.563452          2      gini     best\n",
       "6   0.563452          2   entropy     best\n",
       "36  0.560847         10      gini     best"
      ]
     },
     "execution_count": 9,
     "metadata": {},
     "output_type": "execute_result"
    }
   ],
   "source": [
    "#Next, find an adequate model in terms of f1_score\n",
    "\n",
    "results=[]\n",
    "for depth in range(1, 20):\n",
    "    for criterion in ('gini', 'entropy'):\n",
    "        for splitter in ('best', 'random'):\n",
    "            model = DecisionTreeClassifier(random_state=12345, max_depth=depth, \n",
    "                                           criterion=criterion, splitter= splitter)\n",
    "            model.fit(features_train, target_train)\n",
    "            preds = model.predict(features_valid)\n",
    "            results.append({\n",
    "                'f1_score': f1_score(target_valid, preds),\n",
    "                'Max_depth': depth,\n",
    "                'criterion': criterion,\n",
    "                'splitter': splitter})\n",
    "    \n",
    "results = pd.DataFrame(results)\n",
    "results = results.sort_values(by='f1_score', ascending=False)\n",
    "results.head(10)"
   ]
  },
  {
   "cell_type": "code",
   "execution_count": 10,
   "metadata": {},
   "outputs": [
    {
     "data": {
      "text/html": [
       "<div>\n",
       "<style scoped>\n",
       "    .dataframe tbody tr th:only-of-type {\n",
       "        vertical-align: middle;\n",
       "    }\n",
       "\n",
       "    .dataframe tbody tr th {\n",
       "        vertical-align: top;\n",
       "    }\n",
       "\n",
       "    .dataframe thead th {\n",
       "        text-align: right;\n",
       "    }\n",
       "</style>\n",
       "<table border=\"1\" class=\"dataframe\">\n",
       "  <thead>\n",
       "    <tr style=\"text-align: right;\">\n",
       "      <th></th>\n",
       "      <th>f1_score</th>\n",
       "      <th>n_estimator</th>\n",
       "    </tr>\n",
       "  </thead>\n",
       "  <tbody>\n",
       "    <tr>\n",
       "      <td>31</td>\n",
       "      <td>0.556818</td>\n",
       "      <td>131</td>\n",
       "    </tr>\n",
       "    <tr>\n",
       "      <td>44</td>\n",
       "      <td>0.555874</td>\n",
       "      <td>144</td>\n",
       "    </tr>\n",
       "    <tr>\n",
       "      <td>42</td>\n",
       "      <td>0.555874</td>\n",
       "      <td>142</td>\n",
       "    </tr>\n",
       "    <tr>\n",
       "      <td>29</td>\n",
       "      <td>0.555241</td>\n",
       "      <td>129</td>\n",
       "    </tr>\n",
       "    <tr>\n",
       "      <td>41</td>\n",
       "      <td>0.554286</td>\n",
       "      <td>141</td>\n",
       "    </tr>\n",
       "    <tr>\n",
       "      <td>40</td>\n",
       "      <td>0.554286</td>\n",
       "      <td>140</td>\n",
       "    </tr>\n",
       "    <tr>\n",
       "      <td>43</td>\n",
       "      <td>0.554286</td>\n",
       "      <td>143</td>\n",
       "    </tr>\n",
       "    <tr>\n",
       "      <td>39</td>\n",
       "      <td>0.554286</td>\n",
       "      <td>139</td>\n",
       "    </tr>\n",
       "    <tr>\n",
       "      <td>35</td>\n",
       "      <td>0.552707</td>\n",
       "      <td>135</td>\n",
       "    </tr>\n",
       "    <tr>\n",
       "      <td>30</td>\n",
       "      <td>0.552707</td>\n",
       "      <td>130</td>\n",
       "    </tr>\n",
       "    <tr>\n",
       "      <td>32</td>\n",
       "      <td>0.552707</td>\n",
       "      <td>132</td>\n",
       "    </tr>\n",
       "    <tr>\n",
       "      <td>33</td>\n",
       "      <td>0.552707</td>\n",
       "      <td>133</td>\n",
       "    </tr>\n",
       "    <tr>\n",
       "      <td>45</td>\n",
       "      <td>0.552707</td>\n",
       "      <td>145</td>\n",
       "    </tr>\n",
       "    <tr>\n",
       "      <td>28</td>\n",
       "      <td>0.552707</td>\n",
       "      <td>128</td>\n",
       "    </tr>\n",
       "    <tr>\n",
       "      <td>38</td>\n",
       "      <td>0.551724</td>\n",
       "      <td>138</td>\n",
       "    </tr>\n",
       "    <tr>\n",
       "      <td>46</td>\n",
       "      <td>0.551724</td>\n",
       "      <td>146</td>\n",
       "    </tr>\n",
       "    <tr>\n",
       "      <td>48</td>\n",
       "      <td>0.551724</td>\n",
       "      <td>148</td>\n",
       "    </tr>\n",
       "    <tr>\n",
       "      <td>13</td>\n",
       "      <td>0.551136</td>\n",
       "      <td>113</td>\n",
       "    </tr>\n",
       "    <tr>\n",
       "      <td>27</td>\n",
       "      <td>0.551136</td>\n",
       "      <td>127</td>\n",
       "    </tr>\n",
       "    <tr>\n",
       "      <td>37</td>\n",
       "      <td>0.551136</td>\n",
       "      <td>137</td>\n",
       "    </tr>\n",
       "    <tr>\n",
       "      <td>26</td>\n",
       "      <td>0.550143</td>\n",
       "      <td>126</td>\n",
       "    </tr>\n",
       "    <tr>\n",
       "      <td>47</td>\n",
       "      <td>0.550143</td>\n",
       "      <td>147</td>\n",
       "    </tr>\n",
       "    <tr>\n",
       "      <td>49</td>\n",
       "      <td>0.550143</td>\n",
       "      <td>149</td>\n",
       "    </tr>\n",
       "    <tr>\n",
       "      <td>15</td>\n",
       "      <td>0.549575</td>\n",
       "      <td>115</td>\n",
       "    </tr>\n",
       "    <tr>\n",
       "      <td>34</td>\n",
       "      <td>0.548571</td>\n",
       "      <td>134</td>\n",
       "    </tr>\n",
       "    <tr>\n",
       "      <td>21</td>\n",
       "      <td>0.548023</td>\n",
       "      <td>121</td>\n",
       "    </tr>\n",
       "    <tr>\n",
       "      <td>25</td>\n",
       "      <td>0.547009</td>\n",
       "      <td>125</td>\n",
       "    </tr>\n",
       "    <tr>\n",
       "      <td>12</td>\n",
       "      <td>0.547009</td>\n",
       "      <td>112</td>\n",
       "    </tr>\n",
       "    <tr>\n",
       "      <td>24</td>\n",
       "      <td>0.547009</td>\n",
       "      <td>124</td>\n",
       "    </tr>\n",
       "    <tr>\n",
       "      <td>9</td>\n",
       "      <td>0.547009</td>\n",
       "      <td>109</td>\n",
       "    </tr>\n",
       "    <tr>\n",
       "      <td>14</td>\n",
       "      <td>0.547009</td>\n",
       "      <td>114</td>\n",
       "    </tr>\n",
       "    <tr>\n",
       "      <td>8</td>\n",
       "      <td>0.545977</td>\n",
       "      <td>108</td>\n",
       "    </tr>\n",
       "    <tr>\n",
       "      <td>7</td>\n",
       "      <td>0.545455</td>\n",
       "      <td>107</td>\n",
       "    </tr>\n",
       "    <tr>\n",
       "      <td>18</td>\n",
       "      <td>0.545455</td>\n",
       "      <td>118</td>\n",
       "    </tr>\n",
       "    <tr>\n",
       "      <td>17</td>\n",
       "      <td>0.545455</td>\n",
       "      <td>117</td>\n",
       "    </tr>\n",
       "    <tr>\n",
       "      <td>16</td>\n",
       "      <td>0.545455</td>\n",
       "      <td>116</td>\n",
       "    </tr>\n",
       "    <tr>\n",
       "      <td>11</td>\n",
       "      <td>0.545455</td>\n",
       "      <td>111</td>\n",
       "    </tr>\n",
       "    <tr>\n",
       "      <td>10</td>\n",
       "      <td>0.544413</td>\n",
       "      <td>110</td>\n",
       "    </tr>\n",
       "    <tr>\n",
       "      <td>36</td>\n",
       "      <td>0.544413</td>\n",
       "      <td>136</td>\n",
       "    </tr>\n",
       "    <tr>\n",
       "      <td>19</td>\n",
       "      <td>0.543909</td>\n",
       "      <td>119</td>\n",
       "    </tr>\n",
       "    <tr>\n",
       "      <td>23</td>\n",
       "      <td>0.543909</td>\n",
       "      <td>123</td>\n",
       "    </tr>\n",
       "    <tr>\n",
       "      <td>6</td>\n",
       "      <td>0.541311</td>\n",
       "      <td>106</td>\n",
       "    </tr>\n",
       "    <tr>\n",
       "      <td>5</td>\n",
       "      <td>0.541311</td>\n",
       "      <td>105</td>\n",
       "    </tr>\n",
       "    <tr>\n",
       "      <td>4</td>\n",
       "      <td>0.540230</td>\n",
       "      <td>104</td>\n",
       "    </tr>\n",
       "    <tr>\n",
       "      <td>3</td>\n",
       "      <td>0.540230</td>\n",
       "      <td>103</td>\n",
       "    </tr>\n",
       "    <tr>\n",
       "      <td>2</td>\n",
       "      <td>0.540230</td>\n",
       "      <td>102</td>\n",
       "    </tr>\n",
       "    <tr>\n",
       "      <td>0</td>\n",
       "      <td>0.540230</td>\n",
       "      <td>100</td>\n",
       "    </tr>\n",
       "    <tr>\n",
       "      <td>20</td>\n",
       "      <td>0.539773</td>\n",
       "      <td>120</td>\n",
       "    </tr>\n",
       "    <tr>\n",
       "      <td>22</td>\n",
       "      <td>0.539773</td>\n",
       "      <td>122</td>\n",
       "    </tr>\n",
       "    <tr>\n",
       "      <td>1</td>\n",
       "      <td>0.538682</td>\n",
       "      <td>101</td>\n",
       "    </tr>\n",
       "  </tbody>\n",
       "</table>\n",
       "</div>"
      ],
      "text/plain": [
       "    f1_score  n_estimator\n",
       "31  0.556818          131\n",
       "44  0.555874          144\n",
       "42  0.555874          142\n",
       "29  0.555241          129\n",
       "41  0.554286          141\n",
       "40  0.554286          140\n",
       "43  0.554286          143\n",
       "39  0.554286          139\n",
       "35  0.552707          135\n",
       "30  0.552707          130\n",
       "32  0.552707          132\n",
       "33  0.552707          133\n",
       "45  0.552707          145\n",
       "28  0.552707          128\n",
       "38  0.551724          138\n",
       "46  0.551724          146\n",
       "48  0.551724          148\n",
       "13  0.551136          113\n",
       "27  0.551136          127\n",
       "37  0.551136          137\n",
       "26  0.550143          126\n",
       "47  0.550143          147\n",
       "49  0.550143          149\n",
       "15  0.549575          115\n",
       "34  0.548571          134\n",
       "21  0.548023          121\n",
       "25  0.547009          125\n",
       "12  0.547009          112\n",
       "24  0.547009          124\n",
       "9   0.547009          109\n",
       "14  0.547009          114\n",
       "8   0.545977          108\n",
       "7   0.545455          107\n",
       "18  0.545455          118\n",
       "17  0.545455          117\n",
       "16  0.545455          116\n",
       "11  0.545455          111\n",
       "10  0.544413          110\n",
       "36  0.544413          136\n",
       "19  0.543909          119\n",
       "23  0.543909          123\n",
       "6   0.541311          106\n",
       "5   0.541311          105\n",
       "4   0.540230          104\n",
       "3   0.540230          103\n",
       "2   0.540230          102\n",
       "0   0.540230          100\n",
       "20  0.539773          120\n",
       "22  0.539773          122\n",
       "1   0.538682          101"
      ]
     },
     "execution_count": 10,
     "metadata": {},
     "output_type": "execute_result"
    }
   ],
   "source": [
    "#RandomForest\n",
    "results=[]\n",
    "\n",
    "for estimator in range(100, 150):\n",
    "    model = RandomForestClassifier(random_state=12345, n_estimators=estimator)\n",
    "    model.fit(features_train, target_train)\n",
    "    preds = model.predict(features_valid)\n",
    "    results.append({\n",
    "                'f1_score': f1_score(target_valid, preds),\n",
    "                'n_estimator': estimator})\n",
    "    \n",
    "results = pd.DataFrame(results)\n",
    "results = results.sort_values(by='f1_score', ascending=False)\n",
    "results"
   ]
  },
  {
   "cell_type": "code",
   "execution_count": 11,
   "metadata": {},
   "outputs": [
    {
     "name": "stdout",
     "output_type": "stream",
     "text": [
      "0.29042904290429045\n"
     ]
    }
   ],
   "source": [
    "from sklearn.linear_model import LogisticRegression \n",
    "\n",
    "model = LogisticRegression(random_state=12345, solver='liblinear')\n",
    "model.fit(features_train, target_train)\n",
    "preds = model.predict(features_valid)\n",
    "\n",
    "print(f1_score(target_valid, preds))"
   ]
  },
  {
   "cell_type": "markdown",
   "metadata": {},
   "source": [
    "### Conclusion: Best model -- unbalanced\n",
    "\n",
    "1) The model that produced the best f1 was the RandomForestClassifier (0.570) with n-estimators=89\n",
    "\n",
    "2) The worst model was the logistic regression at 0.333 f1_score\n",
    "\n",
    "3) The RandomForest model will be used to explore the other metrics"
   ]
  },
  {
   "cell_type": "code",
   "execution_count": 12,
   "metadata": {},
   "outputs": [
    {
     "data": {
      "text/plain": [
       "array([[744,  31],\n",
       "       [112, 113]])"
      ]
     },
     "metadata": {},
     "output_type": "display_data"
    }
   ],
   "source": [
    "#Now it is time to explore class imbalance\n",
    "model = DecisionTreeClassifier(random_state=12345, max_depth=5, criterion='entropy', splitter='best')\n",
    "model.fit(features_train, target_train)\n",
    "preds = model.predict(features_valid)\n",
    "\n",
    "display(confusion_matrix(target_valid, preds))"
   ]
  },
  {
   "cell_type": "markdown",
   "metadata": {},
   "source": [
    "### Conclusion: Confusion matrix\n",
    "\n",
    "1) TN: 748, TP: 113, FP: 31, FN: 112\n",
    "\n",
    "2) There is a clear class imbalance leaning towards the TN metric"
   ]
  },
  {
   "cell_type": "code",
   "execution_count": 13,
   "metadata": {},
   "outputs": [
    {
     "name": "stdout",
     "output_type": "stream",
     "text": [
      "Recall: 0.5022222222222222 Precision: 0.7847222222222222 f1: 0.6124661246612466\n"
     ]
    }
   ],
   "source": [
    "print('Recall:', recall_score(target_valid, preds), \n",
    "        'Precision:', precision_score(target_valid, preds),\n",
    "     'f1:', f1_score(target_valid, preds))"
   ]
  },
  {
   "cell_type": "markdown",
   "metadata": {},
   "source": [
    "### Conclusion: Initial Metrics Evaluation\n",
    "\n",
    "1) Recall value is barely considered closer to 1 while precision is close to 1\n",
    "\n",
    "3) An acceptable f1_score has been achieved, however, class imbalance needs to be improved in order to achieve adequate results with the test set"
   ]
  },
  {
   "cell_type": "markdown",
   "metadata": {},
   "source": [
    "##  Improve the quality of the model. Make sure you use at least two approaches to fixing class imbalance. Use the training set to pick the best parameters. Train different models on training and validation sets. Find the best one. Briefly describe your findings."
   ]
  },
  {
   "cell_type": "code",
   "execution_count": 14,
   "metadata": {},
   "outputs": [
    {
     "data": {
      "text/plain": [
       "0.5849673202614379"
      ]
     },
     "execution_count": 14,
     "metadata": {},
     "output_type": "execute_result"
    }
   ],
   "source": [
    "#Try balancing\n",
    "model = DecisionTreeClassifier(random_state=12345, class_weight='balanced', max_depth=5, \n",
    "                               criterion='entropy', splitter='best')\n",
    "model.fit(features_train, target_train)\n",
    "preds = model.predict(features_valid)\n",
    "\n",
    "f1_score(target_valid, preds)\n",
    "#class_weight balancing on DecisionTree model made the score slightly worse"
   ]
  },
  {
   "cell_type": "code",
   "execution_count": 15,
   "metadata": {},
   "outputs": [
    {
     "data": {
      "text/plain": [
       "0.5079365079365079"
      ]
     },
     "execution_count": 15,
     "metadata": {},
     "output_type": "execute_result"
    }
   ],
   "source": [
    "#Does a different model influence this?\n",
    "model = LogisticRegression(random_state=12345, class_weight='balanced', solver='liblinear')\n",
    "model.fit(features_train, target_train)\n",
    "preds = model.predict(features_valid)\n",
    "\n",
    "f1_score(target_valid, preds)\n",
    "#Balancing on a different model also made it worse"
   ]
  },
  {
   "cell_type": "code",
   "execution_count": 16,
   "metadata": {},
   "outputs": [
    {
     "data": {
      "text/plain": [
       "0.469298245614035"
      ]
     },
     "execution_count": 16,
     "metadata": {},
     "output_type": "execute_result"
    }
   ],
   "source": [
    "#Lets try manual balance adjustment\n",
    "model = DecisionTreeClassifier(random_state=12345, max_depth=5, criterion='entropy', splitter='best',\n",
    "                              class_weight={0: 0.06467336683417085, 1: 0.9353266331658292})\n",
    "model.fit(features_train, target_train)\n",
    "preds = model.predict(features_valid)\n",
    "\n",
    "f1_score(target_valid, preds)\n",
    "#manual balancing on DecisionTree model made the score much worse"
   ]
  },
  {
   "cell_type": "code",
   "execution_count": 17,
   "metadata": {},
   "outputs": [
    {
     "data": {
      "text/html": [
       "<div>\n",
       "<style scoped>\n",
       "    .dataframe tbody tr th:only-of-type {\n",
       "        vertical-align: middle;\n",
       "    }\n",
       "\n",
       "    .dataframe tbody tr th {\n",
       "        vertical-align: top;\n",
       "    }\n",
       "\n",
       "    .dataframe thead th {\n",
       "        text-align: right;\n",
       "    }\n",
       "</style>\n",
       "<table border=\"1\" class=\"dataframe\">\n",
       "  <thead>\n",
       "    <tr style=\"text-align: right;\">\n",
       "      <th></th>\n",
       "      <th>f1_score</th>\n",
       "      <th>Max_depth</th>\n",
       "      <th>criterion</th>\n",
       "      <th>splitter</th>\n",
       "    </tr>\n",
       "  </thead>\n",
       "  <tbody>\n",
       "    <tr>\n",
       "      <td>31</td>\n",
       "      <td>0.651911</td>\n",
       "      <td>8</td>\n",
       "      <td>entropy</td>\n",
       "      <td>random</td>\n",
       "    </tr>\n",
       "    <tr>\n",
       "      <td>24</td>\n",
       "      <td>0.645022</td>\n",
       "      <td>7</td>\n",
       "      <td>gini</td>\n",
       "      <td>best</td>\n",
       "    </tr>\n",
       "    <tr>\n",
       "      <td>26</td>\n",
       "      <td>0.642697</td>\n",
       "      <td>7</td>\n",
       "      <td>entropy</td>\n",
       "      <td>best</td>\n",
       "    </tr>\n",
       "    <tr>\n",
       "      <td>16</td>\n",
       "      <td>0.641256</td>\n",
       "      <td>5</td>\n",
       "      <td>gini</td>\n",
       "      <td>best</td>\n",
       "    </tr>\n",
       "    <tr>\n",
       "      <td>18</td>\n",
       "      <td>0.638202</td>\n",
       "      <td>5</td>\n",
       "      <td>entropy</td>\n",
       "      <td>best</td>\n",
       "    </tr>\n",
       "    <tr>\n",
       "      <td>35</td>\n",
       "      <td>0.634656</td>\n",
       "      <td>9</td>\n",
       "      <td>entropy</td>\n",
       "      <td>random</td>\n",
       "    </tr>\n",
       "    <tr>\n",
       "      <td>30</td>\n",
       "      <td>0.626923</td>\n",
       "      <td>8</td>\n",
       "      <td>entropy</td>\n",
       "      <td>best</td>\n",
       "    </tr>\n",
       "    <tr>\n",
       "      <td>28</td>\n",
       "      <td>0.626556</td>\n",
       "      <td>8</td>\n",
       "      <td>gini</td>\n",
       "      <td>best</td>\n",
       "    </tr>\n",
       "    <tr>\n",
       "      <td>33</td>\n",
       "      <td>0.617587</td>\n",
       "      <td>9</td>\n",
       "      <td>gini</td>\n",
       "      <td>random</td>\n",
       "    </tr>\n",
       "    <tr>\n",
       "      <td>25</td>\n",
       "      <td>0.616601</td>\n",
       "      <td>7</td>\n",
       "      <td>gini</td>\n",
       "      <td>random</td>\n",
       "    </tr>\n",
       "  </tbody>\n",
       "</table>\n",
       "</div>"
      ],
      "text/plain": [
       "    f1_score  Max_depth criterion splitter\n",
       "31  0.651911          8   entropy   random\n",
       "24  0.645022          7      gini     best\n",
       "26  0.642697          7   entropy     best\n",
       "16  0.641256          5      gini     best\n",
       "18  0.638202          5   entropy     best\n",
       "35  0.634656          9   entropy   random\n",
       "30  0.626923          8   entropy     best\n",
       "28  0.626556          8      gini     best\n",
       "33  0.617587          9      gini   random\n",
       "25  0.616601          7      gini   random"
      ]
     },
     "execution_count": 17,
     "metadata": {},
     "output_type": "execute_result"
    }
   ],
   "source": [
    "# The class_weight parameter failed even with a different model, it is now time to try upsampling\n",
    "\n",
    "def upsample(features, target, repeat):\n",
    "    features_zeros = features[target == 0]\n",
    "    features_ones = features[target == 1]\n",
    "    target_zeros = target[target == 0]\n",
    "    target_ones = target[target == 1]\n",
    "\n",
    "    features_upsampled = pd.concat([features_zeros] + [features_ones] * repeat)\n",
    "    target_upsampled = pd.concat([target_zeros] + [target_ones] * repeat)\n",
    "\n",
    "    features_upsampled, target_upsampled = shuffle(\n",
    "        features_upsampled, target_upsampled, random_state=12345\n",
    "    )\n",
    "\n",
    "    return features_upsampled, target_upsampled\n",
    "\n",
    "\n",
    "features_upsampled, target_upsampled = upsample(features_train, target_train, 3)\n",
    "\n",
    "results=[]\n",
    "for depth in range(1, 20):\n",
    "    for criterion in ('gini', 'entropy'):\n",
    "        for splitter in ('best', 'random'):\n",
    "            model = DecisionTreeClassifier(random_state=12345, max_depth=depth, \n",
    "                                           criterion=criterion, splitter= splitter)\n",
    "            model.fit(features_upsampled, target_upsampled)\n",
    "            preds = model.predict(features_valid)\n",
    "            results.append({\n",
    "                'f1_score': f1_score(target_valid, preds),\n",
    "                'Max_depth': depth,\n",
    "                'criterion': criterion,\n",
    "                'splitter': splitter})\n",
    "    \n",
    "results = pd.DataFrame(results)\n",
    "results = results.sort_values(by='f1_score', ascending=False)\n",
    "results.head(10)\n",
    "#The f1 score increased a by 0.04 when upsample factor is 3, max_depth=8, entropy, and random"
   ]
  },
  {
   "cell_type": "code",
   "execution_count": 18,
   "metadata": {},
   "outputs": [
    {
     "data": {
      "text/html": [
       "<div>\n",
       "<style scoped>\n",
       "    .dataframe tbody tr th:only-of-type {\n",
       "        vertical-align: middle;\n",
       "    }\n",
       "\n",
       "    .dataframe tbody tr th {\n",
       "        vertical-align: top;\n",
       "    }\n",
       "\n",
       "    .dataframe thead th {\n",
       "        text-align: right;\n",
       "    }\n",
       "</style>\n",
       "<table border=\"1\" class=\"dataframe\">\n",
       "  <thead>\n",
       "    <tr style=\"text-align: right;\">\n",
       "      <th></th>\n",
       "      <th>f1_score</th>\n",
       "      <th>Max_depth</th>\n",
       "      <th>criterion</th>\n",
       "      <th>splitter</th>\n",
       "    </tr>\n",
       "  </thead>\n",
       "  <tbody>\n",
       "    <tr>\n",
       "      <td>25</td>\n",
       "      <td>0.657407</td>\n",
       "      <td>7</td>\n",
       "      <td>gini</td>\n",
       "      <td>random</td>\n",
       "    </tr>\n",
       "    <tr>\n",
       "      <td>16</td>\n",
       "      <td>0.638554</td>\n",
       "      <td>5</td>\n",
       "      <td>gini</td>\n",
       "      <td>best</td>\n",
       "    </tr>\n",
       "    <tr>\n",
       "      <td>18</td>\n",
       "      <td>0.638554</td>\n",
       "      <td>5</td>\n",
       "      <td>entropy</td>\n",
       "      <td>best</td>\n",
       "    </tr>\n",
       "    <tr>\n",
       "      <td>29</td>\n",
       "      <td>0.624277</td>\n",
       "      <td>8</td>\n",
       "      <td>gini</td>\n",
       "      <td>random</td>\n",
       "    </tr>\n",
       "    <tr>\n",
       "      <td>34</td>\n",
       "      <td>0.623742</td>\n",
       "      <td>9</td>\n",
       "      <td>entropy</td>\n",
       "      <td>best</td>\n",
       "    </tr>\n",
       "    <tr>\n",
       "      <td>22</td>\n",
       "      <td>0.621881</td>\n",
       "      <td>6</td>\n",
       "      <td>entropy</td>\n",
       "      <td>best</td>\n",
       "    </tr>\n",
       "    <tr>\n",
       "      <td>20</td>\n",
       "      <td>0.621881</td>\n",
       "      <td>6</td>\n",
       "      <td>gini</td>\n",
       "      <td>best</td>\n",
       "    </tr>\n",
       "    <tr>\n",
       "      <td>30</td>\n",
       "      <td>0.621514</td>\n",
       "      <td>8</td>\n",
       "      <td>entropy</td>\n",
       "      <td>best</td>\n",
       "    </tr>\n",
       "    <tr>\n",
       "      <td>26</td>\n",
       "      <td>0.620553</td>\n",
       "      <td>7</td>\n",
       "      <td>entropy</td>\n",
       "      <td>best</td>\n",
       "    </tr>\n",
       "    <tr>\n",
       "      <td>27</td>\n",
       "      <td>0.616438</td>\n",
       "      <td>7</td>\n",
       "      <td>entropy</td>\n",
       "      <td>random</td>\n",
       "    </tr>\n",
       "  </tbody>\n",
       "</table>\n",
       "</div>"
      ],
      "text/plain": [
       "    f1_score  Max_depth criterion splitter\n",
       "25  0.657407          7      gini   random\n",
       "16  0.638554          5      gini     best\n",
       "18  0.638554          5   entropy     best\n",
       "29  0.624277          8      gini   random\n",
       "34  0.623742          9   entropy     best\n",
       "22  0.621881          6   entropy     best\n",
       "20  0.621881          6      gini     best\n",
       "30  0.621514          8   entropy     best\n",
       "26  0.620553          7   entropy     best\n",
       "27  0.616438          7   entropy   random"
      ]
     },
     "execution_count": 18,
     "metadata": {},
     "output_type": "execute_result"
    }
   ],
   "source": [
    "#Downsampling\n",
    "def downsample(features, target, fraction):\n",
    "    features_zeros = features[target == 0]\n",
    "    features_ones = features[target == 1]\n",
    "    target_zeros = target[target == 0]\n",
    "    target_ones = target[target == 1]\n",
    "\n",
    "    features_downsampled = pd.concat(\n",
    "        [features_zeros.sample(frac=fraction, random_state=12345)]\n",
    "        + [features_ones]\n",
    "    )\n",
    "    target_downsampled = pd.concat(\n",
    "        [target_zeros.sample(frac=fraction, random_state=12345)]\n",
    "        + [target_ones]\n",
    "    )\n",
    "\n",
    "    features_downsampled, target_downsampled = shuffle(\n",
    "        features_downsampled, target_downsampled, random_state=12345\n",
    "    )\n",
    "\n",
    "    return features_downsampled, target_downsampled\n",
    "\n",
    "\n",
    "features_downsampled, target_downsampled = downsample(\n",
    "    features_train, target_train, 0.40)\n",
    "\n",
    "results=[]\n",
    "for depth in range(1, 20):\n",
    "    for criterion in ('gini', 'entropy'):\n",
    "        for splitter in ('best', 'random'):\n",
    "            model = DecisionTreeClassifier(random_state=12345, max_depth=depth, \n",
    "                                           criterion=criterion, splitter= splitter)\n",
    "            model.fit(features_downsampled, target_downsampled)\n",
    "            preds = model.predict(features_valid)\n",
    "            results.append({\n",
    "                'f1_score': f1_score(target_valid, preds),\n",
    "                'Max_depth': depth,\n",
    "                'criterion': criterion,\n",
    "                'splitter': splitter})\n",
    "    \n",
    "results = pd.DataFrame(results)\n",
    "results = results.sort_values(by='f1_score', ascending=False)\n",
    "results.head(10)\n",
    "#downsampling was slightly more effective than upsampling: downsample factor 0.4, depth 7, gini, random"
   ]
  },
  {
   "cell_type": "code",
   "execution_count": 19,
   "metadata": {
    "scrolled": true
   },
   "outputs": [
    {
     "name": "stdout",
     "output_type": "stream",
     "text": [
      "Threshold = 0.00 | Precision = 0.686, Recall = 0.631\n",
      "Threshold = 0.02 | Precision = 0.686, Recall = 0.631\n",
      "Threshold = 0.04 | Precision = 0.686, Recall = 0.631\n",
      "Threshold = 0.06 | Precision = 0.686, Recall = 0.631\n",
      "Threshold = 0.08 | Precision = 0.686, Recall = 0.631\n",
      "Threshold = 0.10 | Precision = 0.686, Recall = 0.631\n",
      "Threshold = 0.12 | Precision = 0.686, Recall = 0.631\n",
      "Threshold = 0.14 | Precision = 0.686, Recall = 0.631\n",
      "Threshold = 0.16 | Precision = 0.686, Recall = 0.631\n",
      "Threshold = 0.18 | Precision = 0.686, Recall = 0.631\n",
      "Threshold = 0.20 | Precision = 0.686, Recall = 0.631\n",
      "Threshold = 0.22 | Precision = 0.686, Recall = 0.631\n",
      "Threshold = 0.24 | Precision = 0.686, Recall = 0.631\n",
      "Threshold = 0.26 | Precision = 0.686, Recall = 0.631\n",
      "Threshold = 0.28 | Precision = 0.686, Recall = 0.631\n",
      "Threshold = 0.30 | Precision = 0.686, Recall = 0.631\n",
      "Threshold = 0.32 | Precision = 0.686, Recall = 0.631\n",
      "Threshold = 0.34 | Precision = 0.686, Recall = 0.631\n",
      "Threshold = 0.36 | Precision = 0.686, Recall = 0.631\n",
      "Threshold = 0.38 | Precision = 0.686, Recall = 0.631\n",
      "Threshold = 0.40 | Precision = 0.686, Recall = 0.631\n",
      "Threshold = 0.42 | Precision = 0.686, Recall = 0.631\n",
      "Threshold = 0.44 | Precision = 0.686, Recall = 0.631\n",
      "Threshold = 0.46 | Precision = 0.686, Recall = 0.631\n",
      "Threshold = 0.48 | Precision = 0.686, Recall = 0.631\n"
     ]
    }
   ],
   "source": [
    "#using the upsampled decision random forest model for threshold adjustment\n",
    "model = DecisionTreeClassifier(random_state=12345, max_depth=7, criterion='gini', splitter='random')\n",
    "model.fit(features_downsampled, target_downsampled)\n",
    "preds = model.predict(features_valid)\n",
    "probabilities_valid = model.predict_proba(features_valid)\n",
    "probabilities_one_valid = probabilities_valid[:, 1]\n",
    "\n",
    "for threshold in np.arange(0, 0.5, 0.02):\n",
    "    predicted_valid = probabilities_one_valid > threshold\n",
    "    precision = precision_score(target_valid, preds)\n",
    "    recall = recall_score(target_valid, preds)\n",
    "    print('Threshold = {:.2f} | Precision = {:.3f}, Recall = {:.3f}'.format(threshold, precision, recall))\n",
    "#threshold adjustment has no effect on the model"
   ]
  },
  {
   "cell_type": "code",
   "execution_count": 20,
   "metadata": {},
   "outputs": [
    {
     "data": {
      "text/plain": [
       "0.5642633228840126"
      ]
     },
     "execution_count": 20,
     "metadata": {},
     "output_type": "execute_result"
    }
   ],
   "source": [
    "#downsampling with class_weight balance\n",
    "model = model = DecisionTreeClassifier(random_state=12345, class_weight='balanced',\n",
    "                                       max_depth=7, criterion='gini', splitter='random')\n",
    "model.fit(features_downsampled, target_downsampled)\n",
    "preds = model.predict(features_valid)\n",
    "\n",
    "f1_score(target_valid, preds)\n",
    "#this decreased the f1 score"
   ]
  },
  {
   "cell_type": "code",
   "execution_count": 21,
   "metadata": {},
   "outputs": [
    {
     "data": {
      "text/plain": [
       "'Recall:'"
      ]
     },
     "metadata": {},
     "output_type": "display_data"
    },
    {
     "data": {
      "text/plain": [
       "0.6311111111111111"
      ]
     },
     "metadata": {},
     "output_type": "display_data"
    },
    {
     "data": {
      "text/plain": [
       "'Precision:'"
      ]
     },
     "metadata": {},
     "output_type": "display_data"
    },
    {
     "data": {
      "text/plain": [
       "0.6859903381642513"
      ]
     },
     "metadata": {},
     "output_type": "display_data"
    },
    {
     "data": {
      "text/plain": [
       "'f1:'"
      ]
     },
     "metadata": {},
     "output_type": "display_data"
    },
    {
     "data": {
      "text/plain": [
       "0.6574074074074074"
      ]
     },
     "metadata": {},
     "output_type": "display_data"
    },
    {
     "data": {
      "text/plain": [
       "'auc-roc:'"
      ]
     },
     "metadata": {},
     "output_type": "display_data"
    },
    {
     "data": {
      "text/plain": [
       "0.8459182795698924"
      ]
     },
     "metadata": {},
     "output_type": "display_data"
    }
   ],
   "source": [
    "#final valid set metric values\n",
    "\n",
    "model = DecisionTreeClassifier(random_state=12345, max_depth=7, criterion='gini', splitter='random')\n",
    "model.fit(features_downsampled, target_downsampled)\n",
    "preds = model.predict(features_valid)\n",
    "\n",
    "display('Recall:', recall_score(target_valid, preds), \n",
    "        'Precision:', precision_score(target_valid, preds),\n",
    "     'f1:', f1_score(target_valid, preds),\n",
    "     'auc-roc:', roc_auc_score(target_valid, probabilities_one_valid)\n",
    ")"
   ]
  },
  {
   "cell_type": "code",
   "execution_count": 22,
   "metadata": {},
   "outputs": [
    {
     "data": {
      "image/png": "[encoded data removed]",
      "text/plain": [
       "<Figure size 720x288 with 1 Axes>"
      ]
     },
     "metadata": {
      "needs_background": "light"
     },
     "output_type": "display_data"
    }
   ],
   "source": [
    "#PLOTTING THE TARGET (downsample=0.4).\n",
    "count_target = pd.value_counts(target_downsampled, sort=True)\n",
    "plt.figure(figsize=(10,4))\n",
    "count_target.plot(kind='bar', rot=0)\n",
    "plt.title('Exited customers.')\n",
    "plt.xlabel('Exited')\n",
    "plt.ylabel('Frequency')\n",
    "plt.show()\n",
    "#displays how the class imbalanced has improved"
   ]
  },
  {
   "cell_type": "code",
   "execution_count": 23,
   "metadata": {},
   "outputs": [
    {
     "data": {
      "image/png": "[encoded data removed]",
      "text/plain": [
       "<Figure size 432x288 with 1 Axes>"
      ]
     },
     "metadata": {
      "needs_background": "light"
     },
     "output_type": "display_data"
    }
   ],
   "source": [
    "fpr, tpr, thresholds = roc_curve(target_valid, probabilities_one_valid)\n",
    "\n",
    "plt.figure()\n",
    "plt.plot(fpr, tpr)\n",
    "plt.xlim([0.0, 1.0])\n",
    "plt.ylim([0.0, 1.0])\n",
    "plt.xlabel('False Positive Rate')\n",
    "plt.ylabel('True Positive Rate')\n",
    "plt.title('ROC curve')\n",
    "plt.show()"
   ]
  },
  {
   "cell_type": "markdown",
   "metadata": {},
   "source": [
    "### Conclusion: Class Imbalance improvement\n",
    "\n",
    "1) Several methods were used to improve class imbalance: a) class_weight balance, b) manual class_weight adjustment, c) different model with class_weight balance, d) upsampling, e) downsampling, and f) class threshold adjustment\n",
    "\n",
    "2) The best method for improving f1_score was downsampling the majority class by 0.4\n",
    "\n",
    "3) This resulted in an acceptable f1_score: 0.657\n",
    "\n",
    "4) auc-roc score: 0.845"
   ]
  },
  {
   "cell_type": "markdown",
   "metadata": {},
   "source": [
    "## Perform the final testing "
   ]
  },
  {
   "cell_type": "code",
   "execution_count": 24,
   "metadata": {
    "scrolled": true
   },
   "outputs": [
    {
     "data": {
      "text/plain": [
       "'f1:'"
      ]
     },
     "metadata": {},
     "output_type": "display_data"
    },
    {
     "data": {
      "text/plain": [
       "0.5911330049261084"
      ]
     },
     "metadata": {},
     "output_type": "display_data"
    },
    {
     "data": {
      "text/plain": [
       "'accuracy:'"
      ]
     },
     "metadata": {},
     "output_type": "display_data"
    },
    {
     "data": {
      "text/plain": [
       "0.834"
      ]
     },
     "metadata": {},
     "output_type": "display_data"
    },
    {
     "data": {
      "text/plain": [
       "'ROC-AUC'"
      ]
     },
     "metadata": {},
     "output_type": "display_data"
    },
    {
     "data": {
      "text/plain": [
       "0.8352657634184473"
      ]
     },
     "metadata": {},
     "output_type": "display_data"
    }
   ],
   "source": [
    "features_test[numeric] = scaler.transform(features_test[numeric])\n",
    "model = DecisionTreeClassifier(random_state=12345, max_depth=7, criterion='gini', splitter='random')\n",
    "model.fit(features_downsampled, target_downsampled)\n",
    "preds = model.predict(features_test)\n",
    "probabilities_test = model.predict_proba(features_test)\n",
    "probabilities_one_test = probabilities_test[:, 1]\n",
    "\n",
    "display('f1:', f1_score(target_test, preds),\n",
    "        'accuracy:', accuracy_score(target_test, preds),\n",
    "       'ROC-AUC', roc_auc_score(target_test, probabilities_one_test))\n"
   ]
  },
  {
   "cell_type": "code",
   "execution_count": 25,
   "metadata": {},
   "outputs": [
    {
     "data": {
      "image/png": "[encoded data removed]",
      "text/plain": [
       "<Figure size 432x288 with 1 Axes>"
      ]
     },
     "metadata": {
      "needs_background": "light"
     },
     "output_type": "display_data"
    }
   ],
   "source": [
    "#ROC Curve\n",
    "fpr, tpr, thresholds = roc_curve(target_test, probabilities_one_test)\n",
    "\n",
    "plt.figure()\n",
    "plt.plot(fpr, tpr)\n",
    "plt.xlim([0.0, 1.0])\n",
    "plt.ylim([0.0, 1.0])\n",
    "plt.xlabel('False Positive Rate')\n",
    "plt.ylabel('True Positive Rate')\n",
    "plt.title('ROC curve')\n",
    "plt.show()\n"
   ]
  },
  {
   "cell_type": "markdown",
   "metadata": {},
   "source": [
    "### Conclusion: \n",
    "\n",
    "1) In validation trials, the  model's f1 score reached an adequate level (0.657) and achieved 0.59 on the test set\n",
    "\n",
    "2) The ROC-AUC score decreased slightly from before (0.845) and after the test set (0.835)\n",
    "\n",
    "3) The ROC-curve plots are very similar to one another"
   ]
  },
  {
   "cell_type": "markdown",
   "metadata": {},
   "source": [
    "## General Conclusion\n",
    "\n",
    "1) The model has been improved by rechecking hyperparameters during downsampling, resulting in the highest f1_score of 0.657 in the validation trials and 0.59 in the test trial\n",
    "\n",
    "2) An adequate DecisionTree model to predict whether a client will leave the bank is now functional for Beta Bank to use on future data is now functional"
   ]
  }
 ],
 "metadata": {
  "ExecuteTimeLog": [
   {
    "duration": 741,
    "start_time": "2021-12-07T02:22:33.058Z"
   },
   {
    "duration": 104,
    "start_time": "2021-12-07T02:49:14.142Z"
   },
   {
    "duration": 56,
    "start_time": "2021-12-07T02:49:24.421Z"
   },
   {
    "duration": 52,
    "start_time": "2021-12-07T03:01:55.673Z"
   },
   {
    "duration": 10,
    "start_time": "2021-12-07T03:02:21.429Z"
   },
   {
    "duration": 11,
    "start_time": "2021-12-07T03:03:37.034Z"
   },
   {
    "duration": 12,
    "start_time": "2021-12-07T03:15:00.376Z"
   },
   {
    "duration": 290,
    "start_time": "2021-12-07T13:11:46.089Z"
   },
   {
    "duration": 695,
    "start_time": "2021-12-07T13:11:58.850Z"
   },
   {
    "duration": 34,
    "start_time": "2021-12-07T13:11:59.547Z"
   },
   {
    "duration": 8,
    "start_time": "2021-12-07T13:11:59.583Z"
   },
   {
    "duration": 8,
    "start_time": "2021-12-07T13:11:59.592Z"
   },
   {
    "duration": 11,
    "start_time": "2021-12-07T13:11:59.601Z"
   },
   {
    "duration": 7,
    "start_time": "2021-12-07T13:11:59.614Z"
   },
   {
    "duration": 8,
    "start_time": "2021-12-07T13:23:52.034Z"
   },
   {
    "duration": 351,
    "start_time": "2021-12-07T17:19:59.615Z"
   },
   {
    "duration": 1165,
    "start_time": "2021-12-07T17:20:07.096Z"
   },
   {
    "duration": 36,
    "start_time": "2021-12-07T17:20:08.263Z"
   },
   {
    "duration": 7,
    "start_time": "2021-12-07T17:20:08.301Z"
   },
   {
    "duration": 14,
    "start_time": "2021-12-07T17:20:08.310Z"
   },
   {
    "duration": 10,
    "start_time": "2021-12-07T17:20:08.326Z"
   },
   {
    "duration": 8,
    "start_time": "2021-12-07T17:20:08.337Z"
   },
   {
    "duration": 7,
    "start_time": "2021-12-07T17:20:08.364Z"
   },
   {
    "duration": 20,
    "start_time": "2021-12-07T17:20:08.373Z"
   },
   {
    "duration": 328,
    "start_time": "2021-12-07T17:33:55.705Z"
   },
   {
    "duration": 1333,
    "start_time": "2021-12-07T17:34:04.030Z"
   },
   {
    "duration": 38,
    "start_time": "2021-12-07T17:34:05.365Z"
   },
   {
    "duration": 7,
    "start_time": "2021-12-07T17:34:05.405Z"
   },
   {
    "duration": 10,
    "start_time": "2021-12-07T17:34:05.414Z"
   },
   {
    "duration": 11,
    "start_time": "2021-12-07T17:34:05.426Z"
   },
   {
    "duration": 8,
    "start_time": "2021-12-07T17:34:05.464Z"
   },
   {
    "duration": 18,
    "start_time": "2021-12-07T17:34:05.474Z"
   },
   {
    "duration": 28,
    "start_time": "2021-12-07T17:34:05.495Z"
   },
   {
    "duration": 350,
    "start_time": "2021-12-07T17:34:05.525Z"
   },
   {
    "duration": 278,
    "start_time": "2021-12-07T17:34:19.624Z"
   },
   {
    "duration": 310,
    "start_time": "2021-12-07T17:37:31.446Z"
   },
   {
    "duration": 14,
    "start_time": "2021-12-07T17:37:48.512Z"
   },
   {
    "duration": 1233,
    "start_time": "2021-12-07T17:38:21.333Z"
   },
   {
    "duration": 12,
    "start_time": "2021-12-07T17:38:22.568Z"
   },
   {
    "duration": 28,
    "start_time": "2021-12-07T17:38:22.582Z"
   },
   {
    "duration": 30,
    "start_time": "2021-12-07T17:38:22.611Z"
   },
   {
    "duration": 29,
    "start_time": "2021-12-07T17:38:22.643Z"
   },
   {
    "duration": 23,
    "start_time": "2021-12-07T17:38:22.673Z"
   },
   {
    "duration": 29,
    "start_time": "2021-12-07T17:38:22.698Z"
   },
   {
    "duration": 29,
    "start_time": "2021-12-07T17:38:22.729Z"
   },
   {
    "duration": 374,
    "start_time": "2021-12-07T17:38:22.760Z"
   },
   {
    "duration": 14,
    "start_time": "2021-12-07T17:51:10.241Z"
   },
   {
    "duration": 1169,
    "start_time": "2021-12-07T17:51:53.309Z"
   },
   {
    "duration": 13,
    "start_time": "2021-12-07T17:51:54.479Z"
   },
   {
    "duration": 197,
    "start_time": "2021-12-07T17:51:54.495Z"
   },
   {
    "duration": 9,
    "start_time": "2021-12-07T17:51:54.694Z"
   },
   {
    "duration": 13,
    "start_time": "2021-12-07T17:51:54.705Z"
   },
   {
    "duration": 15,
    "start_time": "2021-12-07T17:51:54.720Z"
   },
   {
    "duration": 28,
    "start_time": "2021-12-07T17:51:54.737Z"
   },
   {
    "duration": 58,
    "start_time": "2021-12-07T17:51:54.768Z"
   },
   {
    "duration": 136,
    "start_time": "2021-12-07T17:53:57.753Z"
   },
   {
    "duration": 458,
    "start_time": "2021-12-07T17:54:17.807Z"
   },
   {
    "duration": 91,
    "start_time": "2021-12-07T17:54:29.177Z"
   },
   {
    "duration": 260,
    "start_time": "2021-12-07T18:23:17.051Z"
   },
   {
    "duration": 25,
    "start_time": "2021-12-07T18:23:27.266Z"
   },
   {
    "duration": 1285,
    "start_time": "2021-12-07T18:41:39.635Z"
   },
   {
    "duration": 14,
    "start_time": "2021-12-07T18:41:40.922Z"
   },
   {
    "duration": 17,
    "start_time": "2021-12-07T18:41:40.938Z"
   },
   {
    "duration": 16,
    "start_time": "2021-12-07T18:41:40.957Z"
   },
   {
    "duration": 15,
    "start_time": "2021-12-07T18:41:40.976Z"
   },
   {
    "duration": 22,
    "start_time": "2021-12-07T18:41:40.993Z"
   },
   {
    "duration": 56,
    "start_time": "2021-12-07T18:41:41.018Z"
   },
   {
    "duration": 61,
    "start_time": "2021-12-07T18:41:41.077Z"
   },
   {
    "duration": 180,
    "start_time": "2021-12-07T18:41:41.140Z"
   },
   {
    "duration": 51,
    "start_time": "2021-12-07T18:41:41.322Z"
   },
   {
    "duration": 118,
    "start_time": "2021-12-07T18:41:41.376Z"
   },
   {
    "duration": 79,
    "start_time": "2021-12-07T18:41:41.496Z"
   },
   {
    "duration": 332,
    "start_time": "2021-12-07T18:59:06.284Z"
   },
   {
    "duration": 10,
    "start_time": "2021-12-07T19:00:07.016Z"
   },
   {
    "duration": 25,
    "start_time": "2021-12-07T19:18:13.553Z"
   },
   {
    "duration": 107,
    "start_time": "2021-12-07T19:19:46.461Z"
   },
   {
    "duration": 424,
    "start_time": "2021-12-07T19:31:44.678Z"
   },
   {
    "duration": 48,
    "start_time": "2021-12-07T19:32:05.927Z"
   },
   {
    "duration": 46,
    "start_time": "2021-12-07T19:32:09.712Z"
   },
   {
    "duration": 88,
    "start_time": "2021-12-07T19:32:56.306Z"
   },
   {
    "duration": 1315,
    "start_time": "2021-12-07T19:33:02.560Z"
   },
   {
    "duration": 13,
    "start_time": "2021-12-07T19:33:03.877Z"
   },
   {
    "duration": 14,
    "start_time": "2021-12-07T19:33:03.892Z"
   },
   {
    "duration": 9,
    "start_time": "2021-12-07T19:33:03.908Z"
   },
   {
    "duration": 9,
    "start_time": "2021-12-07T19:33:03.919Z"
   },
   {
    "duration": 35,
    "start_time": "2021-12-07T19:33:03.930Z"
   },
   {
    "duration": 20,
    "start_time": "2021-12-07T19:33:03.966Z"
   },
   {
    "duration": 80,
    "start_time": "2021-12-07T19:33:03.988Z"
   },
   {
    "duration": 143,
    "start_time": "2021-12-07T19:33:04.070Z"
   },
   {
    "duration": 55,
    "start_time": "2021-12-07T19:33:04.215Z"
   },
   {
    "duration": 201,
    "start_time": "2021-12-07T19:33:04.273Z"
   },
   {
    "duration": 9,
    "start_time": "2021-12-07T19:33:04.476Z"
   },
   {
    "duration": 20,
    "start_time": "2021-12-07T19:33:04.487Z"
   },
   {
    "duration": 75,
    "start_time": "2021-12-07T19:33:04.509Z"
   },
   {
    "duration": 280,
    "start_time": "2021-12-07T19:33:04.586Z"
   },
   {
    "duration": 1215,
    "start_time": "2021-12-07T19:33:58.365Z"
   },
   {
    "duration": 16,
    "start_time": "2021-12-07T19:33:59.582Z"
   },
   {
    "duration": 40,
    "start_time": "2021-12-07T19:33:59.600Z"
   },
   {
    "duration": 10,
    "start_time": "2021-12-07T19:33:59.642Z"
   },
   {
    "duration": 10,
    "start_time": "2021-12-07T19:33:59.654Z"
   },
   {
    "duration": 24,
    "start_time": "2021-12-07T19:33:59.666Z"
   },
   {
    "duration": 16,
    "start_time": "2021-12-07T19:33:59.692Z"
   },
   {
    "duration": 71,
    "start_time": "2021-12-07T19:33:59.710Z"
   },
   {
    "duration": 147,
    "start_time": "2021-12-07T19:33:59.783Z"
   },
   {
    "duration": 47,
    "start_time": "2021-12-07T19:33:59.932Z"
   },
   {
    "duration": 107,
    "start_time": "2021-12-07T19:34:00.065Z"
   },
   {
    "duration": 49,
    "start_time": "2021-12-07T19:34:00.174Z"
   },
   {
    "duration": 74,
    "start_time": "2021-12-07T19:34:00.225Z"
   },
   {
    "duration": 64,
    "start_time": "2021-12-07T19:34:00.301Z"
   },
   {
    "duration": 228,
    "start_time": "2021-12-07T19:34:00.368Z"
   },
   {
    "duration": 18,
    "start_time": "2021-12-07T19:35:34.036Z"
   },
   {
    "duration": 1197,
    "start_time": "2021-12-07T19:36:27.603Z"
   },
   {
    "duration": 15,
    "start_time": "2021-12-07T19:36:28.803Z"
   },
   {
    "duration": 144,
    "start_time": "2021-12-07T19:36:28.821Z"
   },
   {
    "duration": 15,
    "start_time": "2021-12-07T19:36:28.969Z"
   },
   {
    "duration": 9,
    "start_time": "2021-12-07T19:36:28.986Z"
   },
   {
    "duration": 15,
    "start_time": "2021-12-07T19:36:28.997Z"
   },
   {
    "duration": 52,
    "start_time": "2021-12-07T19:36:29.014Z"
   },
   {
    "duration": 64,
    "start_time": "2021-12-07T19:36:29.069Z"
   },
   {
    "duration": 185,
    "start_time": "2021-12-07T19:36:29.136Z"
   },
   {
    "duration": 64,
    "start_time": "2021-12-07T19:36:29.323Z"
   },
   {
    "duration": 110,
    "start_time": "2021-12-07T19:36:29.464Z"
   },
   {
    "duration": 9,
    "start_time": "2021-12-07T19:36:29.577Z"
   },
   {
    "duration": 32,
    "start_time": "2021-12-07T19:36:29.588Z"
   },
   {
    "duration": 66,
    "start_time": "2021-12-07T19:36:29.622Z"
   },
   {
    "duration": 210,
    "start_time": "2021-12-07T19:36:29.690Z"
   },
   {
    "duration": 19,
    "start_time": "2021-12-07T19:36:29.902Z"
   },
   {
    "duration": 559,
    "start_time": "2021-12-07T19:38:40.633Z"
   },
   {
    "duration": 301,
    "start_time": "2021-12-07T19:39:09.553Z"
   },
   {
    "duration": 1226,
    "start_time": "2021-12-07T19:39:16.156Z"
   },
   {
    "duration": 12,
    "start_time": "2021-12-07T19:39:17.384Z"
   },
   {
    "duration": 24,
    "start_time": "2021-12-07T19:39:17.398Z"
   },
   {
    "duration": 21,
    "start_time": "2021-12-07T19:39:17.424Z"
   },
   {
    "duration": 23,
    "start_time": "2021-12-07T19:39:17.447Z"
   },
   {
    "duration": 21,
    "start_time": "2021-12-07T19:39:17.472Z"
   },
   {
    "duration": 16,
    "start_time": "2021-12-07T19:39:17.495Z"
   },
   {
    "duration": 91,
    "start_time": "2021-12-07T19:39:17.513Z"
   },
   {
    "duration": 151,
    "start_time": "2021-12-07T19:39:17.606Z"
   },
   {
    "duration": 40,
    "start_time": "2021-12-07T19:39:17.758Z"
   },
   {
    "duration": 108,
    "start_time": "2021-12-07T19:39:17.865Z"
   },
   {
    "duration": 9,
    "start_time": "2021-12-07T19:39:17.979Z"
   },
   {
    "duration": 19,
    "start_time": "2021-12-07T19:39:17.990Z"
   },
   {
    "duration": 87,
    "start_time": "2021-12-07T19:39:18.011Z"
   },
   {
    "duration": 140,
    "start_time": "2021-12-07T19:39:18.164Z"
   },
   {
    "duration": 17,
    "start_time": "2021-12-07T19:39:18.307Z"
   },
   {
    "duration": 268,
    "start_time": "2021-12-07T19:39:18.326Z"
   },
   {
    "duration": 62,
    "start_time": "2021-12-07T19:41:03.675Z"
   },
   {
    "duration": 130,
    "start_time": "2021-12-07T19:42:24.175Z"
   },
   {
    "duration": 19,
    "start_time": "2021-12-07T20:03:06.089Z"
   },
   {
    "duration": 34,
    "start_time": "2021-12-07T20:03:30.488Z"
   },
   {
    "duration": 37,
    "start_time": "2021-12-07T20:03:48.969Z"
   },
   {
    "duration": 41,
    "start_time": "2021-12-07T20:03:55.546Z"
   },
   {
    "duration": 34,
    "start_time": "2021-12-07T20:04:11.830Z"
   },
   {
    "duration": 36,
    "start_time": "2021-12-07T20:04:20.589Z"
   },
   {
    "duration": 47,
    "start_time": "2021-12-07T20:04:26.260Z"
   },
   {
    "duration": 33,
    "start_time": "2021-12-07T20:04:32.016Z"
   },
   {
    "duration": 29,
    "start_time": "2021-12-07T20:06:47.708Z"
   },
   {
    "duration": 25,
    "start_time": "2021-12-07T20:07:18.431Z"
   },
   {
    "duration": 24,
    "start_time": "2021-12-07T20:07:23.682Z"
   },
   {
    "duration": 37,
    "start_time": "2021-12-07T20:07:31.455Z"
   },
   {
    "duration": 33,
    "start_time": "2021-12-07T20:07:35.604Z"
   },
   {
    "duration": 26,
    "start_time": "2021-12-07T20:07:40.739Z"
   },
   {
    "duration": 37,
    "start_time": "2021-12-07T20:07:44.288Z"
   },
   {
    "duration": 25,
    "start_time": "2021-12-07T20:07:48.541Z"
   },
   {
    "duration": 289,
    "start_time": "2021-12-07T23:48:54.410Z"
   },
   {
    "duration": 1057,
    "start_time": "2021-12-07T23:49:03.187Z"
   },
   {
    "duration": 10,
    "start_time": "2021-12-07T23:49:04.245Z"
   },
   {
    "duration": 6,
    "start_time": "2021-12-07T23:49:04.257Z"
   },
   {
    "duration": 9,
    "start_time": "2021-12-07T23:49:04.265Z"
   },
   {
    "duration": 13,
    "start_time": "2021-12-07T23:49:04.275Z"
   },
   {
    "duration": 12,
    "start_time": "2021-12-07T23:49:04.289Z"
   },
   {
    "duration": 14,
    "start_time": "2021-12-07T23:49:04.302Z"
   },
   {
    "duration": 70,
    "start_time": "2021-12-07T23:49:04.318Z"
   },
   {
    "duration": 125,
    "start_time": "2021-12-07T23:49:04.390Z"
   },
   {
    "duration": 75,
    "start_time": "2021-12-07T23:49:04.516Z"
   },
   {
    "duration": 102,
    "start_time": "2021-12-07T23:49:04.593Z"
   },
   {
    "duration": 7,
    "start_time": "2021-12-07T23:49:04.696Z"
   },
   {
    "duration": 16,
    "start_time": "2021-12-07T23:49:04.705Z"
   },
   {
    "duration": 66,
    "start_time": "2021-12-07T23:49:04.723Z"
   },
   {
    "duration": 116,
    "start_time": "2021-12-07T23:49:04.791Z"
   },
   {
    "duration": 19,
    "start_time": "2021-12-07T23:49:04.909Z"
   },
   {
    "duration": 68,
    "start_time": "2021-12-07T23:49:04.930Z"
   },
   {
    "duration": 12,
    "start_time": "2021-12-07T23:56:15.548Z"
   },
   {
    "duration": 1060,
    "start_time": "2021-12-07T23:58:51.785Z"
   },
   {
    "duration": 11,
    "start_time": "2021-12-07T23:58:52.846Z"
   },
   {
    "duration": 8,
    "start_time": "2021-12-07T23:58:52.859Z"
   },
   {
    "duration": 9,
    "start_time": "2021-12-07T23:58:52.868Z"
   },
   {
    "duration": 11,
    "start_time": "2021-12-07T23:58:52.878Z"
   },
   {
    "duration": 12,
    "start_time": "2021-12-07T23:58:52.890Z"
   },
   {
    "duration": 14,
    "start_time": "2021-12-07T23:58:52.903Z"
   },
   {
    "duration": 319,
    "start_time": "2021-12-07T23:58:52.918Z"
   },
   {
    "duration": -102,
    "start_time": "2021-12-07T23:58:53.341Z"
   },
   {
    "duration": -105,
    "start_time": "2021-12-07T23:58:53.345Z"
   },
   {
    "duration": -107,
    "start_time": "2021-12-07T23:58:53.347Z"
   },
   {
    "duration": -115,
    "start_time": "2021-12-07T23:58:53.356Z"
   },
   {
    "duration": -119,
    "start_time": "2021-12-07T23:58:53.361Z"
   },
   {
    "duration": -121,
    "start_time": "2021-12-07T23:58:53.363Z"
   },
   {
    "duration": -122,
    "start_time": "2021-12-07T23:58:53.365Z"
   },
   {
    "duration": -122,
    "start_time": "2021-12-07T23:58:53.366Z"
   },
   {
    "duration": -124,
    "start_time": "2021-12-07T23:58:53.369Z"
   },
   {
    "duration": 1050,
    "start_time": "2021-12-08T00:01:14.990Z"
   },
   {
    "duration": 11,
    "start_time": "2021-12-08T00:01:16.041Z"
   },
   {
    "duration": 18,
    "start_time": "2021-12-08T00:01:16.054Z"
   },
   {
    "duration": 28,
    "start_time": "2021-12-08T00:01:16.073Z"
   },
   {
    "duration": 24,
    "start_time": "2021-12-08T00:01:16.103Z"
   },
   {
    "duration": 31,
    "start_time": "2021-12-08T00:01:16.129Z"
   },
   {
    "duration": 30,
    "start_time": "2021-12-08T00:01:16.162Z"
   },
   {
    "duration": 12,
    "start_time": "2021-12-08T00:01:16.194Z"
   },
   {
    "duration": 53,
    "start_time": "2021-12-08T00:01:16.207Z"
   },
   {
    "duration": 106,
    "start_time": "2021-12-08T00:01:16.262Z"
   },
   {
    "duration": 31,
    "start_time": "2021-12-08T00:01:16.370Z"
   },
   {
    "duration": 108,
    "start_time": "2021-12-08T00:01:16.489Z"
   },
   {
    "duration": 8,
    "start_time": "2021-12-08T00:01:16.598Z"
   },
   {
    "duration": 15,
    "start_time": "2021-12-08T00:01:16.607Z"
   },
   {
    "duration": 67,
    "start_time": "2021-12-08T00:01:16.623Z"
   },
   {
    "duration": 491,
    "start_time": "2021-12-08T00:01:16.692Z"
   },
   {
    "duration": -507,
    "start_time": "2021-12-08T00:01:17.692Z"
   },
   {
    "duration": 1016,
    "start_time": "2021-12-08T00:02:28.822Z"
   },
   {
    "duration": 11,
    "start_time": "2021-12-08T00:02:29.840Z"
   },
   {
    "duration": 8,
    "start_time": "2021-12-08T00:02:29.853Z"
   },
   {
    "duration": 10,
    "start_time": "2021-12-08T00:02:29.862Z"
   },
   {
    "duration": 15,
    "start_time": "2021-12-08T00:02:29.873Z"
   },
   {
    "duration": 12,
    "start_time": "2021-12-08T00:02:29.889Z"
   },
   {
    "duration": 14,
    "start_time": "2021-12-08T00:02:29.902Z"
   },
   {
    "duration": 73,
    "start_time": "2021-12-08T00:02:29.918Z"
   },
   {
    "duration": 120,
    "start_time": "2021-12-08T00:02:29.992Z"
   },
   {
    "duration": 77,
    "start_time": "2021-12-08T00:02:30.114Z"
   },
   {
    "duration": 108,
    "start_time": "2021-12-08T00:02:30.193Z"
   },
   {
    "duration": 7,
    "start_time": "2021-12-08T00:02:30.302Z"
   },
   {
    "duration": 16,
    "start_time": "2021-12-08T00:02:30.311Z"
   },
   {
    "duration": 69,
    "start_time": "2021-12-08T00:02:30.328Z"
   },
   {
    "duration": 106,
    "start_time": "2021-12-08T00:02:30.489Z"
   },
   {
    "duration": 22,
    "start_time": "2021-12-08T00:02:30.596Z"
   },
   {
    "duration": 338,
    "start_time": "2021-12-08T00:08:00.707Z"
   },
   {
    "duration": 303,
    "start_time": "2021-12-08T00:09:03.412Z"
   },
   {
    "duration": 244,
    "start_time": "2021-12-08T00:09:18.283Z"
   },
   {
    "duration": 31,
    "start_time": "2021-12-08T00:09:34.318Z"
   },
   {
    "duration": 1097,
    "start_time": "2021-12-08T00:10:08.824Z"
   },
   {
    "duration": 11,
    "start_time": "2021-12-08T00:10:09.923Z"
   },
   {
    "duration": 9,
    "start_time": "2021-12-08T00:10:09.936Z"
   },
   {
    "duration": 10,
    "start_time": "2021-12-08T00:10:09.946Z"
   },
   {
    "duration": 8,
    "start_time": "2021-12-08T00:10:09.957Z"
   },
   {
    "duration": 33,
    "start_time": "2021-12-08T00:10:09.966Z"
   },
   {
    "duration": 16,
    "start_time": "2021-12-08T00:10:10.000Z"
   },
   {
    "duration": 30,
    "start_time": "2021-12-08T00:10:10.018Z"
   },
   {
    "duration": 78,
    "start_time": "2021-12-08T00:10:10.050Z"
   },
   {
    "duration": 121,
    "start_time": "2021-12-08T00:10:10.129Z"
   },
   {
    "duration": 45,
    "start_time": "2021-12-08T00:10:10.252Z"
   },
   {
    "duration": 19,
    "start_time": "2021-12-08T00:10:10.389Z"
   },
   {
    "duration": 80,
    "start_time": "2021-12-08T00:10:10.409Z"
   },
   {
    "duration": 18,
    "start_time": "2021-12-08T00:10:10.491Z"
   },
   {
    "duration": 79,
    "start_time": "2021-12-08T00:10:10.510Z"
   },
   {
    "duration": 117,
    "start_time": "2021-12-08T00:10:10.591Z"
   },
   {
    "duration": 18,
    "start_time": "2021-12-08T00:10:10.710Z"
   },
   {
    "duration": 29,
    "start_time": "2021-12-08T00:10:40.495Z"
   },
   {
    "duration": 25,
    "start_time": "2021-12-08T00:10:50.046Z"
   },
   {
    "duration": 512,
    "start_time": "2021-12-08T00:11:04.049Z"
   },
   {
    "duration": 24,
    "start_time": "2021-12-08T00:11:15.546Z"
   },
   {
    "duration": 23,
    "start_time": "2021-12-08T00:29:17.752Z"
   },
   {
    "duration": 25,
    "start_time": "2021-12-08T00:29:41.420Z"
   },
   {
    "duration": 25,
    "start_time": "2021-12-08T00:29:55.340Z"
   },
   {
    "duration": 95,
    "start_time": "2021-12-08T00:31:04.547Z"
   },
   {
    "duration": 50,
    "start_time": "2021-12-08T00:31:15.601Z"
   },
   {
    "duration": 58,
    "start_time": "2021-12-08T00:31:24.627Z"
   },
   {
    "duration": 43,
    "start_time": "2021-12-08T00:31:29.957Z"
   },
   {
    "duration": 50,
    "start_time": "2021-12-08T00:31:35.570Z"
   },
   {
    "duration": 25,
    "start_time": "2021-12-08T00:32:34.378Z"
   },
   {
    "duration": 26,
    "start_time": "2021-12-08T00:32:40.087Z"
   },
   {
    "duration": 28,
    "start_time": "2021-12-08T00:32:46.072Z"
   },
   {
    "duration": 29,
    "start_time": "2021-12-08T00:32:55.252Z"
   },
   {
    "duration": 29,
    "start_time": "2021-12-08T00:32:59.728Z"
   },
   {
    "duration": 1032,
    "start_time": "2021-12-08T00:38:33.707Z"
   },
   {
    "duration": 11,
    "start_time": "2021-12-08T00:38:34.740Z"
   },
   {
    "duration": 8,
    "start_time": "2021-12-08T00:38:34.753Z"
   },
   {
    "duration": 10,
    "start_time": "2021-12-08T00:38:34.763Z"
   },
   {
    "duration": 14,
    "start_time": "2021-12-08T00:38:34.775Z"
   },
   {
    "duration": 17,
    "start_time": "2021-12-08T00:38:34.790Z"
   },
   {
    "duration": 15,
    "start_time": "2021-12-08T00:38:34.808Z"
   },
   {
    "duration": 28,
    "start_time": "2021-12-08T00:38:34.826Z"
   },
   {
    "duration": 365,
    "start_time": "2021-12-08T00:38:34.888Z"
   },
   {
    "duration": -118,
    "start_time": "2021-12-08T00:38:35.373Z"
   },
   {
    "duration": -121,
    "start_time": "2021-12-08T00:38:35.376Z"
   },
   {
    "duration": -123,
    "start_time": "2021-12-08T00:38:35.379Z"
   },
   {
    "duration": -125,
    "start_time": "2021-12-08T00:38:35.382Z"
   },
   {
    "duration": -124,
    "start_time": "2021-12-08T00:38:35.384Z"
   },
   {
    "duration": -125,
    "start_time": "2021-12-08T00:38:35.386Z"
   },
   {
    "duration": -130,
    "start_time": "2021-12-08T00:38:35.392Z"
   },
   {
    "duration": -131,
    "start_time": "2021-12-08T00:38:35.394Z"
   },
   {
    "duration": 1030,
    "start_time": "2021-12-08T00:40:10.710Z"
   },
   {
    "duration": 11,
    "start_time": "2021-12-08T00:40:11.742Z"
   },
   {
    "duration": 7,
    "start_time": "2021-12-08T00:40:11.755Z"
   },
   {
    "duration": 9,
    "start_time": "2021-12-08T00:40:11.764Z"
   },
   {
    "duration": 15,
    "start_time": "2021-12-08T00:40:11.775Z"
   },
   {
    "duration": 12,
    "start_time": "2021-12-08T00:40:11.791Z"
   },
   {
    "duration": 14,
    "start_time": "2021-12-08T00:40:11.805Z"
   },
   {
    "duration": 28,
    "start_time": "2021-12-08T00:40:11.821Z"
   },
   {
    "duration": 180,
    "start_time": "2021-12-08T00:40:11.851Z"
   },
   {
    "duration": 126,
    "start_time": "2021-12-08T00:40:12.033Z"
   },
   {
    "duration": 133,
    "start_time": "2021-12-08T00:40:12.160Z"
   },
   {
    "duration": 104,
    "start_time": "2021-12-08T00:40:12.295Z"
   },
   {
    "duration": 8,
    "start_time": "2021-12-08T00:40:12.401Z"
   },
   {
    "duration": 16,
    "start_time": "2021-12-08T00:40:12.411Z"
   },
   {
    "duration": 160,
    "start_time": "2021-12-08T00:40:12.429Z"
   },
   {
    "duration": 28,
    "start_time": "2021-12-08T00:40:12.590Z"
   },
   {
    "duration": 17,
    "start_time": "2021-12-08T00:40:12.620Z"
   },
   {
    "duration": 1409,
    "start_time": "2021-12-08T00:41:22.562Z"
   },
   {
    "duration": 16,
    "start_time": "2021-12-08T00:41:23.973Z"
   },
   {
    "duration": 23,
    "start_time": "2021-12-08T00:41:23.991Z"
   },
   {
    "duration": 12,
    "start_time": "2021-12-08T00:41:24.016Z"
   },
   {
    "duration": 22,
    "start_time": "2021-12-08T00:41:24.030Z"
   },
   {
    "duration": 26,
    "start_time": "2021-12-08T00:41:24.054Z"
   },
   {
    "duration": 20,
    "start_time": "2021-12-08T00:41:24.082Z"
   },
   {
    "duration": 51,
    "start_time": "2021-12-08T00:41:24.105Z"
   },
   {
    "duration": 369,
    "start_time": "2021-12-08T00:41:24.158Z"
   },
   {
    "duration": 123,
    "start_time": "2021-12-08T00:41:24.529Z"
   },
   {
    "duration": 135,
    "start_time": "2021-12-08T00:41:24.653Z"
   },
   {
    "duration": 99,
    "start_time": "2021-12-08T00:41:24.790Z"
   },
   {
    "duration": 8,
    "start_time": "2021-12-08T00:41:24.891Z"
   },
   {
    "duration": 20,
    "start_time": "2021-12-08T00:41:24.900Z"
   },
   {
    "duration": 166,
    "start_time": "2021-12-08T00:41:24.922Z"
   },
   {
    "duration": 30,
    "start_time": "2021-12-08T00:41:25.090Z"
   },
   {
    "duration": 70,
    "start_time": "2021-12-08T00:41:25.121Z"
   },
   {
    "duration": 230,
    "start_time": "2021-12-08T00:42:09.391Z"
   },
   {
    "duration": 1026,
    "start_time": "2021-12-08T00:55:42.808Z"
   },
   {
    "duration": 11,
    "start_time": "2021-12-08T00:55:43.836Z"
   },
   {
    "duration": 7,
    "start_time": "2021-12-08T00:55:43.848Z"
   },
   {
    "duration": 9,
    "start_time": "2021-12-08T00:55:43.856Z"
   },
   {
    "duration": 7,
    "start_time": "2021-12-08T00:55:43.866Z"
   },
   {
    "duration": 23,
    "start_time": "2021-12-08T00:55:43.874Z"
   },
   {
    "duration": 13,
    "start_time": "2021-12-08T00:55:43.898Z"
   },
   {
    "duration": 30,
    "start_time": "2021-12-08T00:55:43.913Z"
   },
   {
    "duration": 263,
    "start_time": "2021-12-08T00:55:43.945Z"
   },
   {
    "duration": 306,
    "start_time": "2021-12-08T00:55:44.210Z"
   },
   {
    "duration": 73,
    "start_time": "2021-12-08T00:55:44.517Z"
   },
   {
    "duration": 113,
    "start_time": "2021-12-08T00:55:44.592Z"
   },
   {
    "duration": 7,
    "start_time": "2021-12-08T00:55:44.706Z"
   },
   {
    "duration": 16,
    "start_time": "2021-12-08T00:55:44.714Z"
   },
   {
    "duration": 64,
    "start_time": "2021-12-08T00:55:44.731Z"
   },
   {
    "duration": 121,
    "start_time": "2021-12-08T00:55:44.797Z"
   },
   {
    "duration": 75,
    "start_time": "2021-12-08T00:55:44.920Z"
   },
   {
    "duration": 21,
    "start_time": "2021-12-08T00:57:52.082Z"
   },
   {
    "duration": 18,
    "start_time": "2021-12-08T00:58:05.864Z"
   },
   {
    "duration": 28,
    "start_time": "2021-12-08T01:09:39.074Z"
   },
   {
    "duration": 31,
    "start_time": "2021-12-08T01:09:52.443Z"
   },
   {
    "duration": 29,
    "start_time": "2021-12-08T01:09:57.931Z"
   },
   {
    "duration": 28,
    "start_time": "2021-12-08T01:10:26.785Z"
   },
   {
    "duration": 28,
    "start_time": "2021-12-08T01:10:29.925Z"
   },
   {
    "duration": 1015,
    "start_time": "2021-12-08T01:10:35.631Z"
   },
   {
    "duration": 10,
    "start_time": "2021-12-08T01:10:36.648Z"
   },
   {
    "duration": 7,
    "start_time": "2021-12-08T01:10:36.660Z"
   },
   {
    "duration": 10,
    "start_time": "2021-12-08T01:10:36.668Z"
   },
   {
    "duration": 14,
    "start_time": "2021-12-08T01:10:36.679Z"
   },
   {
    "duration": 12,
    "start_time": "2021-12-08T01:10:36.694Z"
   },
   {
    "duration": 15,
    "start_time": "2021-12-08T01:10:36.708Z"
   },
   {
    "duration": 30,
    "start_time": "2021-12-08T01:10:36.726Z"
   },
   {
    "duration": 238,
    "start_time": "2021-12-08T01:10:36.788Z"
   },
   {
    "duration": 203,
    "start_time": "2021-12-08T01:10:37.028Z"
   },
   {
    "duration": 59,
    "start_time": "2021-12-08T01:10:37.233Z"
   },
   {
    "duration": 111,
    "start_time": "2021-12-08T01:10:37.293Z"
   },
   {
    "duration": 7,
    "start_time": "2021-12-08T01:10:37.406Z"
   },
   {
    "duration": 16,
    "start_time": "2021-12-08T01:10:37.414Z"
   },
   {
    "duration": 57,
    "start_time": "2021-12-08T01:10:37.432Z"
   },
   {
    "duration": 121,
    "start_time": "2021-12-08T01:10:37.491Z"
   },
   {
    "duration": 27,
    "start_time": "2021-12-08T01:10:37.613Z"
   },
   {
    "duration": 21,
    "start_time": "2021-12-08T01:10:54.888Z"
   },
   {
    "duration": 20,
    "start_time": "2021-12-08T01:11:05.239Z"
   },
   {
    "duration": 20,
    "start_time": "2021-12-08T01:15:05.245Z"
   },
   {
    "duration": 20,
    "start_time": "2021-12-08T01:16:07.128Z"
   },
   {
    "duration": 32,
    "start_time": "2021-12-08T01:16:44.973Z"
   },
   {
    "duration": 27,
    "start_time": "2021-12-08T01:16:51.191Z"
   },
   {
    "duration": 23,
    "start_time": "2021-12-08T01:50:45.496Z"
   },
   {
    "duration": 336,
    "start_time": "2021-12-08T01:53:13.716Z"
   },
   {
    "duration": 269,
    "start_time": "2021-12-08T01:53:56.044Z"
   },
   {
    "duration": 59,
    "start_time": "2021-12-08T01:54:25.950Z"
   },
   {
    "duration": 85,
    "start_time": "2021-12-08T01:55:02.991Z"
   },
   {
    "duration": 238,
    "start_time": "2021-12-08T01:57:23.136Z"
   },
   {
    "duration": 270,
    "start_time": "2021-12-08T01:57:40.880Z"
   },
   {
    "duration": 1070,
    "start_time": "2021-12-08T01:57:52.872Z"
   },
   {
    "duration": 10,
    "start_time": "2021-12-08T01:57:53.944Z"
   },
   {
    "duration": 6,
    "start_time": "2021-12-08T01:57:53.956Z"
   },
   {
    "duration": 6,
    "start_time": "2021-12-08T01:57:53.964Z"
   },
   {
    "duration": 20,
    "start_time": "2021-12-08T01:57:53.971Z"
   },
   {
    "duration": 12,
    "start_time": "2021-12-08T01:57:53.992Z"
   },
   {
    "duration": 14,
    "start_time": "2021-12-08T01:57:54.005Z"
   },
   {
    "duration": 28,
    "start_time": "2021-12-08T01:57:54.021Z"
   },
   {
    "duration": 267,
    "start_time": "2021-12-08T01:57:54.051Z"
   },
   {
    "duration": 212,
    "start_time": "2021-12-08T01:57:54.320Z"
   },
   {
    "duration": 59,
    "start_time": "2021-12-08T01:57:54.533Z"
   },
   {
    "duration": 107,
    "start_time": "2021-12-08T01:57:54.594Z"
   },
   {
    "duration": 7,
    "start_time": "2021-12-08T01:57:54.703Z"
   },
   {
    "duration": 20,
    "start_time": "2021-12-08T01:57:54.711Z"
   },
   {
    "duration": 68,
    "start_time": "2021-12-08T01:57:54.732Z"
   },
   {
    "duration": 104,
    "start_time": "2021-12-08T01:57:54.802Z"
   },
   {
    "duration": 81,
    "start_time": "2021-12-08T01:57:54.908Z"
   },
   {
    "duration": 19,
    "start_time": "2021-12-08T01:57:54.990Z"
   },
   {
    "duration": 97,
    "start_time": "2021-12-08T01:57:55.011Z"
   },
   {
    "duration": 7,
    "start_time": "2021-12-08T01:57:55.110Z"
   },
   {
    "duration": 5,
    "start_time": "2021-12-08T02:10:52.884Z"
   },
   {
    "duration": 6,
    "start_time": "2021-12-08T02:11:01.915Z"
   },
   {
    "duration": 20,
    "start_time": "2021-12-08T02:11:28.605Z"
   },
   {
    "duration": 21,
    "start_time": "2021-12-08T02:11:32.793Z"
   },
   {
    "duration": 1071,
    "start_time": "2021-12-08T02:16:19.167Z"
   },
   {
    "duration": 10,
    "start_time": "2021-12-08T02:16:20.240Z"
   },
   {
    "duration": 8,
    "start_time": "2021-12-08T02:16:20.252Z"
   },
   {
    "duration": 9,
    "start_time": "2021-12-08T02:16:20.262Z"
   },
   {
    "duration": 19,
    "start_time": "2021-12-08T02:16:20.272Z"
   },
   {
    "duration": 11,
    "start_time": "2021-12-08T02:16:20.292Z"
   },
   {
    "duration": 15,
    "start_time": "2021-12-08T02:16:20.305Z"
   },
   {
    "duration": 29,
    "start_time": "2021-12-08T02:16:20.322Z"
   },
   {
    "duration": 269,
    "start_time": "2021-12-08T02:16:20.353Z"
   },
   {
    "duration": 198,
    "start_time": "2021-12-08T02:16:20.624Z"
   },
   {
    "duration": 67,
    "start_time": "2021-12-08T02:16:20.824Z"
   },
   {
    "duration": 110,
    "start_time": "2021-12-08T02:16:20.893Z"
   },
   {
    "duration": 8,
    "start_time": "2021-12-08T02:16:21.005Z"
   },
   {
    "duration": 20,
    "start_time": "2021-12-08T02:16:21.014Z"
   },
   {
    "duration": 60,
    "start_time": "2021-12-08T02:16:21.036Z"
   },
   {
    "duration": 21,
    "start_time": "2021-12-08T02:16:21.187Z"
   },
   {
    "duration": 79,
    "start_time": "2021-12-08T02:16:21.210Z"
   },
   {
    "duration": 18,
    "start_time": "2021-12-08T02:16:21.291Z"
   },
   {
    "duration": 96,
    "start_time": "2021-12-08T02:16:21.310Z"
   },
   {
    "duration": 7,
    "start_time": "2021-12-08T02:16:21.408Z"
   },
   {
    "duration": 21,
    "start_time": "2021-12-08T02:16:21.416Z"
   },
   {
    "duration": 21,
    "start_time": "2021-12-08T02:17:52.387Z"
   },
   {
    "duration": 21,
    "start_time": "2021-12-08T02:23:01.872Z"
   },
   {
    "duration": 20,
    "start_time": "2021-12-08T02:23:05.548Z"
   },
   {
    "duration": 317,
    "start_time": "2021-12-08T02:29:23.479Z"
   },
   {
    "duration": 22,
    "start_time": "2021-12-08T02:29:40.018Z"
   },
   {
    "duration": 10,
    "start_time": "2021-12-08T02:33:37.040Z"
   },
   {
    "duration": 1487,
    "start_time": "2021-12-08T02:33:54.071Z"
   },
   {
    "duration": 11,
    "start_time": "2021-12-08T02:33:55.560Z"
   },
   {
    "duration": 7,
    "start_time": "2021-12-08T02:33:55.573Z"
   },
   {
    "duration": 10,
    "start_time": "2021-12-08T02:33:55.581Z"
   },
   {
    "duration": 8,
    "start_time": "2021-12-08T02:33:55.593Z"
   },
   {
    "duration": 12,
    "start_time": "2021-12-08T02:33:55.602Z"
   },
   {
    "duration": 15,
    "start_time": "2021-12-08T02:33:55.616Z"
   },
   {
    "duration": 64,
    "start_time": "2021-12-08T02:33:55.633Z"
   },
   {
    "duration": 245,
    "start_time": "2021-12-08T02:33:55.700Z"
   },
   {
    "duration": 208,
    "start_time": "2021-12-08T02:33:55.947Z"
   },
   {
    "duration": 32,
    "start_time": "2021-12-08T02:33:56.156Z"
   },
   {
    "duration": 105,
    "start_time": "2021-12-08T02:33:56.189Z"
   },
   {
    "duration": 98,
    "start_time": "2021-12-08T02:33:56.296Z"
   },
   {
    "duration": 21,
    "start_time": "2021-12-08T02:33:56.395Z"
   },
   {
    "duration": 14,
    "start_time": "2021-12-08T02:33:56.417Z"
   },
   {
    "duration": 164,
    "start_time": "2021-12-08T02:33:56.433Z"
   },
   {
    "duration": 33,
    "start_time": "2021-12-08T02:33:56.599Z"
   },
   {
    "duration": 21,
    "start_time": "2021-12-08T02:33:56.634Z"
   },
   {
    "duration": 115,
    "start_time": "2021-12-08T02:33:56.657Z"
   },
   {
    "duration": 18,
    "start_time": "2021-12-08T02:33:56.774Z"
   },
   {
    "duration": 23,
    "start_time": "2021-12-08T02:33:56.794Z"
   },
   {
    "duration": 1053,
    "start_time": "2021-12-08T02:34:20.582Z"
   },
   {
    "duration": 11,
    "start_time": "2021-12-08T02:34:21.636Z"
   },
   {
    "duration": 7,
    "start_time": "2021-12-08T02:34:21.649Z"
   },
   {
    "duration": 9,
    "start_time": "2021-12-08T02:34:21.658Z"
   },
   {
    "duration": 20,
    "start_time": "2021-12-08T02:34:21.668Z"
   },
   {
    "duration": 12,
    "start_time": "2021-12-08T02:34:21.689Z"
   },
   {
    "duration": 14,
    "start_time": "2021-12-08T02:34:21.703Z"
   },
   {
    "duration": 32,
    "start_time": "2021-12-08T02:34:21.718Z"
   },
   {
    "duration": 264,
    "start_time": "2021-12-08T02:34:21.753Z"
   },
   {
    "duration": 202,
    "start_time": "2021-12-08T02:34:22.018Z"
   },
   {
    "duration": 65,
    "start_time": "2021-12-08T02:34:22.222Z"
   },
   {
    "duration": 109,
    "start_time": "2021-12-08T02:34:22.290Z"
   },
   {
    "duration": 7,
    "start_time": "2021-12-08T02:34:22.400Z"
   },
   {
    "duration": 19,
    "start_time": "2021-12-08T02:34:22.409Z"
   },
   {
    "duration": 62,
    "start_time": "2021-12-08T02:34:22.429Z"
   },
   {
    "duration": 112,
    "start_time": "2021-12-08T02:34:22.492Z"
   },
   {
    "duration": 29,
    "start_time": "2021-12-08T02:34:22.606Z"
   },
   {
    "duration": 17,
    "start_time": "2021-12-08T02:34:22.636Z"
   },
   {
    "duration": 106,
    "start_time": "2021-12-08T02:34:22.655Z"
   },
   {
    "duration": 25,
    "start_time": "2021-12-08T02:34:22.762Z"
   },
   {
    "duration": 20,
    "start_time": "2021-12-08T02:34:22.789Z"
   },
   {
    "duration": 23,
    "start_time": "2021-12-08T02:35:14.417Z"
   },
   {
    "duration": 680,
    "start_time": "2021-12-08T02:37:38.309Z"
   },
   {
    "duration": 20,
    "start_time": "2021-12-08T02:37:53.243Z"
   },
   {
    "duration": 20,
    "start_time": "2021-12-08T02:39:27.384Z"
   },
   {
    "duration": 336,
    "start_time": "2021-12-08T02:39:59.468Z"
   },
   {
    "duration": 92,
    "start_time": "2021-12-08T02:40:51.491Z"
   },
   {
    "duration": 249,
    "start_time": "2021-12-08T02:40:54.744Z"
   },
   {
    "duration": 21,
    "start_time": "2021-12-08T02:40:59.953Z"
   },
   {
    "duration": 254,
    "start_time": "2021-12-08T02:44:55.465Z"
   },
   {
    "duration": 21,
    "start_time": "2021-12-08T02:45:27.355Z"
   },
   {
    "duration": 257,
    "start_time": "2021-12-08T02:45:36.586Z"
   },
   {
    "duration": 22,
    "start_time": "2021-12-08T02:45:53.000Z"
   },
   {
    "duration": 474,
    "start_time": "2021-12-08T18:38:49.208Z"
   },
   {
    "duration": 1528,
    "start_time": "2021-12-08T18:38:57.696Z"
   },
   {
    "duration": 20,
    "start_time": "2021-12-08T18:38:59.227Z"
   },
   {
    "duration": 10,
    "start_time": "2021-12-08T18:38:59.261Z"
   },
   {
    "duration": 12,
    "start_time": "2021-12-08T18:38:59.274Z"
   },
   {
    "duration": 13,
    "start_time": "2021-12-08T18:38:59.288Z"
   },
   {
    "duration": 77,
    "start_time": "2021-12-08T18:38:59.304Z"
   },
   {
    "duration": 24,
    "start_time": "2021-12-08T18:38:59.383Z"
   },
   {
    "duration": 86,
    "start_time": "2021-12-08T18:38:59.411Z"
   },
   {
    "duration": 417,
    "start_time": "2021-12-08T18:38:59.500Z"
   },
   {
    "duration": 345,
    "start_time": "2021-12-08T18:38:59.919Z"
   },
   {
    "duration": 102,
    "start_time": "2021-12-08T18:39:00.266Z"
   },
   {
    "duration": 110,
    "start_time": "2021-12-08T18:39:00.373Z"
   },
   {
    "duration": 15,
    "start_time": "2021-12-08T18:39:00.486Z"
   },
   {
    "duration": 82,
    "start_time": "2021-12-08T18:39:00.504Z"
   },
   {
    "duration": 81,
    "start_time": "2021-12-08T18:39:00.589Z"
   },
   {
    "duration": 193,
    "start_time": "2021-12-08T18:39:00.674Z"
   },
   {
    "duration": 50,
    "start_time": "2021-12-08T18:39:00.869Z"
   },
   {
    "duration": 58,
    "start_time": "2021-12-08T18:39:00.921Z"
   },
   {
    "duration": 172,
    "start_time": "2021-12-08T18:39:00.982Z"
   },
   {
    "duration": 36,
    "start_time": "2021-12-08T18:39:01.160Z"
   },
   {
    "duration": 88,
    "start_time": "2021-12-08T18:39:01.199Z"
   },
   {
    "duration": 21,
    "start_time": "2021-12-08T18:52:11.853Z"
   },
   {
    "duration": 517,
    "start_time": "2021-12-08T18:55:53.003Z"
   },
   {
    "duration": 10,
    "start_time": "2021-12-08T18:58:09.941Z"
   },
   {
    "duration": 14,
    "start_time": "2021-12-08T18:59:03.062Z"
   },
   {
    "duration": 16,
    "start_time": "2021-12-08T18:59:16.216Z"
   },
   {
    "duration": 9,
    "start_time": "2021-12-08T19:01:52.121Z"
   },
   {
    "duration": 8,
    "start_time": "2021-12-08T19:02:02.955Z"
   },
   {
    "duration": 9,
    "start_time": "2021-12-08T19:02:15.178Z"
   },
   {
    "duration": 11,
    "start_time": "2021-12-08T19:02:39.511Z"
   },
   {
    "duration": 10,
    "start_time": "2021-12-08T19:02:47.051Z"
   },
   {
    "duration": 10,
    "start_time": "2021-12-08T19:02:59.626Z"
   },
   {
    "duration": 11,
    "start_time": "2021-12-08T19:03:23.843Z"
   },
   {
    "duration": 11,
    "start_time": "2021-12-08T19:03:29.472Z"
   },
   {
    "duration": 542,
    "start_time": "2021-12-08T19:05:10.297Z"
   },
   {
    "duration": 14,
    "start_time": "2021-12-08T19:05:52.378Z"
   },
   {
    "duration": 15,
    "start_time": "2021-12-08T19:08:24.882Z"
   },
   {
    "duration": 1454,
    "start_time": "2021-12-08T19:15:54.284Z"
   },
   {
    "duration": 21,
    "start_time": "2021-12-08T19:15:55.740Z"
   },
   {
    "duration": 9,
    "start_time": "2021-12-08T19:15:55.763Z"
   },
   {
    "duration": 9,
    "start_time": "2021-12-08T19:15:55.775Z"
   },
   {
    "duration": 11,
    "start_time": "2021-12-08T19:15:55.786Z"
   },
   {
    "duration": 13,
    "start_time": "2021-12-08T19:15:55.799Z"
   },
   {
    "duration": 65,
    "start_time": "2021-12-08T19:15:55.816Z"
   },
   {
    "duration": 82,
    "start_time": "2021-12-08T19:15:55.884Z"
   },
   {
    "duration": 404,
    "start_time": "2021-12-08T19:15:55.968Z"
   },
   {
    "duration": 504,
    "start_time": "2021-12-08T19:15:56.375Z"
   },
   {
    "duration": 26,
    "start_time": "2021-12-08T19:15:56.882Z"
   },
   {
    "duration": 167,
    "start_time": "2021-12-08T19:15:56.961Z"
   },
   {
    "duration": 33,
    "start_time": "2021-12-08T19:15:57.130Z"
   },
   {
    "duration": 164,
    "start_time": "2021-12-08T19:15:57.166Z"
   },
   {
    "duration": 128,
    "start_time": "2021-12-08T19:15:57.332Z"
   },
   {
    "duration": 173,
    "start_time": "2021-12-08T19:15:57.463Z"
   },
   {
    "duration": 63,
    "start_time": "2021-12-08T19:15:57.638Z"
   },
   {
    "duration": 76,
    "start_time": "2021-12-08T19:15:57.703Z"
   },
   {
    "duration": 221,
    "start_time": "2021-12-08T19:15:57.782Z"
   },
   {
    "duration": 24,
    "start_time": "2021-12-08T19:15:58.006Z"
   },
   {
    "duration": 100,
    "start_time": "2021-12-08T19:15:58.060Z"
   },
   {
    "duration": 106,
    "start_time": "2021-12-08T19:17:55.358Z"
   },
   {
    "duration": 226,
    "start_time": "2021-12-08T19:18:59.793Z"
   },
   {
    "duration": 153,
    "start_time": "2021-12-08T19:19:37.704Z"
   },
   {
    "duration": 82,
    "start_time": "2021-12-08T19:19:46.343Z"
   },
   {
    "duration": 108,
    "start_time": "2021-12-08T19:19:55.344Z"
   },
   {
    "duration": 79,
    "start_time": "2021-12-08T19:24:57.447Z"
   },
   {
    "duration": 70,
    "start_time": "2021-12-08T19:51:43.654Z"
   },
   {
    "duration": 90,
    "start_time": "2021-12-08T19:51:58.619Z"
   },
   {
    "duration": 96,
    "start_time": "2021-12-08T19:52:08.794Z"
   },
   {
    "duration": 97,
    "start_time": "2021-12-08T19:52:18.970Z"
   },
   {
    "duration": 130,
    "start_time": "2021-12-08T19:52:26.469Z"
   },
   {
    "duration": 131,
    "start_time": "2021-12-08T19:52:32.337Z"
   },
   {
    "duration": 102,
    "start_time": "2021-12-08T19:52:43.763Z"
   },
   {
    "duration": 111,
    "start_time": "2021-12-08T19:52:50.067Z"
   },
   {
    "duration": 128,
    "start_time": "2021-12-08T19:53:00.752Z"
   },
   {
    "duration": 234,
    "start_time": "2021-12-08T19:53:04.966Z"
   },
   {
    "duration": 156,
    "start_time": "2021-12-08T19:53:09.119Z"
   },
   {
    "duration": 162,
    "start_time": "2021-12-08T19:53:16.174Z"
   },
   {
    "duration": 152,
    "start_time": "2021-12-08T19:53:27.273Z"
   },
   {
    "duration": 153,
    "start_time": "2021-12-08T19:53:43.345Z"
   },
   {
    "duration": 1495,
    "start_time": "2021-12-08T19:54:33.067Z"
   },
   {
    "duration": 19,
    "start_time": "2021-12-08T19:54:34.565Z"
   },
   {
    "duration": 11,
    "start_time": "2021-12-08T19:54:34.588Z"
   },
   {
    "duration": 12,
    "start_time": "2021-12-08T19:54:34.603Z"
   },
   {
    "duration": 12,
    "start_time": "2021-12-08T19:54:34.659Z"
   },
   {
    "duration": 14,
    "start_time": "2021-12-08T19:54:34.673Z"
   },
   {
    "duration": 26,
    "start_time": "2021-12-08T19:54:34.689Z"
   },
   {
    "duration": 48,
    "start_time": "2021-12-08T19:54:34.762Z"
   },
   {
    "duration": 451,
    "start_time": "2021-12-08T19:54:34.813Z"
   },
   {
    "duration": 525,
    "start_time": "2021-12-08T19:54:35.267Z"
   },
   {
    "duration": 68,
    "start_time": "2021-12-08T19:54:35.795Z"
   },
   {
    "duration": 172,
    "start_time": "2021-12-08T19:54:35.867Z"
   },
   {
    "duration": 31,
    "start_time": "2021-12-08T19:54:36.042Z"
   },
   {
    "duration": 103,
    "start_time": "2021-12-08T19:54:36.076Z"
   },
   {
    "duration": 83,
    "start_time": "2021-12-08T19:54:36.182Z"
   },
   {
    "duration": 160,
    "start_time": "2021-12-08T19:54:36.268Z"
   },
   {
    "duration": 184,
    "start_time": "2021-12-08T19:54:36.430Z"
   },
   {
    "duration": 103,
    "start_time": "2021-12-08T19:54:36.618Z"
   },
   {
    "duration": 268,
    "start_time": "2021-12-08T19:54:36.725Z"
   },
   {
    "duration": 25,
    "start_time": "2021-12-08T19:54:36.996Z"
   },
   {
    "duration": 178,
    "start_time": "2021-12-08T19:54:37.024Z"
   },
   {
    "duration": 139,
    "start_time": "2021-12-08T19:56:19.240Z"
   },
   {
    "duration": 288,
    "start_time": "2021-12-08T21:21:09.797Z"
   },
   {
    "duration": 237,
    "start_time": "2021-12-08T21:21:17.431Z"
   },
   {
    "duration": 102,
    "start_time": "2021-12-08T21:21:17.671Z"
   },
   {
    "duration": 200,
    "start_time": "2021-12-08T21:21:42.314Z"
   },
   {
    "duration": 159,
    "start_time": "2021-12-08T21:21:50.293Z"
   },
   {
    "duration": 148,
    "start_time": "2021-12-08T21:21:57.413Z"
   },
   {
    "duration": 164,
    "start_time": "2021-12-08T21:22:01.808Z"
   },
   {
    "duration": 178,
    "start_time": "2021-12-08T21:22:08.075Z"
   },
   {
    "duration": 190,
    "start_time": "2021-12-08T21:22:12.080Z"
   },
   {
    "duration": 170,
    "start_time": "2021-12-08T21:22:16.931Z"
   },
   {
    "duration": 242,
    "start_time": "2021-12-08T21:22:23.501Z"
   },
   {
    "duration": 224,
    "start_time": "2021-12-08T21:22:31.198Z"
   },
   {
    "duration": 217,
    "start_time": "2021-12-08T21:22:35.653Z"
   },
   {
    "duration": 155,
    "start_time": "2021-12-08T21:22:41.823Z"
   },
   {
    "duration": 615,
    "start_time": "2021-12-08T21:25:40.556Z"
   },
   {
    "duration": 415,
    "start_time": "2021-12-08T21:27:16.332Z"
   },
   {
    "duration": 1830,
    "start_time": "2021-12-08T21:27:23.752Z"
   },
   {
    "duration": 19,
    "start_time": "2021-12-08T21:27:25.585Z"
   },
   {
    "duration": 10,
    "start_time": "2021-12-08T21:27:25.608Z"
   },
   {
    "duration": 44,
    "start_time": "2021-12-08T21:27:25.622Z"
   },
   {
    "duration": 13,
    "start_time": "2021-12-08T21:27:25.668Z"
   },
   {
    "duration": 14,
    "start_time": "2021-12-08T21:27:25.683Z"
   },
   {
    "duration": 65,
    "start_time": "2021-12-08T21:27:25.700Z"
   },
   {
    "duration": 52,
    "start_time": "2021-12-08T21:27:25.769Z"
   },
   {
    "duration": 436,
    "start_time": "2021-12-08T21:27:25.825Z"
   },
   {
    "duration": 527,
    "start_time": "2021-12-08T21:27:26.264Z"
   },
   {
    "duration": 27,
    "start_time": "2021-12-08T21:27:26.794Z"
   },
   {
    "duration": 177,
    "start_time": "2021-12-08T21:27:26.861Z"
   },
   {
    "duration": 28,
    "start_time": "2021-12-08T21:27:27.041Z"
   },
   {
    "duration": 291,
    "start_time": "2021-12-08T21:27:27.071Z"
   },
   {
    "duration": 99,
    "start_time": "2021-12-08T21:27:27.365Z"
   },
   {
    "duration": 102,
    "start_time": "2021-12-08T21:27:27.466Z"
   },
   {
    "duration": 220,
    "start_time": "2021-12-08T21:27:27.571Z"
   },
   {
    "duration": 173,
    "start_time": "2021-12-08T21:27:27.794Z"
   },
   {
    "duration": 107,
    "start_time": "2021-12-08T21:27:27.970Z"
   },
   {
    "duration": 271,
    "start_time": "2021-12-08T21:27:28.079Z"
   },
   {
    "duration": 162,
    "start_time": "2021-12-08T21:27:28.353Z"
   },
   {
    "duration": 53,
    "start_time": "2021-12-08T21:27:28.517Z"
   },
   {
    "duration": 175,
    "start_time": "2021-12-08T21:27:28.576Z"
   },
   {
    "duration": 269,
    "start_time": "2021-12-08T21:28:31.768Z"
   },
   {
    "duration": 1473,
    "start_time": "2021-12-09T07:08:14.808Z"
   },
   {
    "duration": 19,
    "start_time": "2021-12-09T07:08:16.284Z"
   },
   {
    "duration": 12,
    "start_time": "2021-12-09T07:08:16.306Z"
   },
   {
    "duration": 43,
    "start_time": "2021-12-09T07:08:16.321Z"
   },
   {
    "duration": 10,
    "start_time": "2021-12-09T07:08:16.367Z"
   },
   {
    "duration": 14,
    "start_time": "2021-12-09T07:08:16.380Z"
   },
   {
    "duration": 70,
    "start_time": "2021-12-09T07:08:16.397Z"
   },
   {
    "duration": 54,
    "start_time": "2021-12-09T07:08:16.473Z"
   },
   {
    "duration": 497,
    "start_time": "2021-12-09T07:08:16.530Z"
   },
   {
    "duration": 27442,
    "start_time": "2021-12-09T07:08:17.030Z"
   },
   {
    "duration": 185,
    "start_time": "2021-12-09T07:08:44.475Z"
   },
   {
    "duration": 1279,
    "start_time": "2021-12-09T07:08:44.662Z"
   },
   {
    "duration": 18,
    "start_time": "2021-12-09T07:08:45.943Z"
   },
   {
    "duration": 1199,
    "start_time": "2021-12-09T07:08:45.964Z"
   },
   {
    "duration": 102,
    "start_time": "2021-12-09T07:08:47.165Z"
   },
   {
    "duration": 1210,
    "start_time": "2021-12-09T07:08:47.270Z"
   },
   {
    "duration": 2264,
    "start_time": "2021-12-09T07:08:48.482Z"
   },
   {
    "duration": 1074,
    "start_time": "2021-12-09T07:08:50.749Z"
   },
   {
    "duration": 2371,
    "start_time": "2021-12-09T07:08:51.825Z"
   },
   {
    "duration": 2236,
    "start_time": "2021-12-09T07:08:54.200Z"
   },
   {
    "duration": 2356,
    "start_time": "2021-12-09T07:08:56.438Z"
   },
   {
    "duration": 149,
    "start_time": "2021-12-09T07:08:58.796Z"
   },
   {
    "duration": -161,
    "start_time": "2021-12-09T07:08:59.108Z"
   },
   {
    "duration": 236,
    "start_time": "2021-12-09T07:12:25.330Z"
   },
   {
    "duration": 1550,
    "start_time": "2021-12-09T07:13:20.187Z"
   },
   {
    "duration": 2229,
    "start_time": "2021-12-09T07:13:26.577Z"
   },
   {
    "duration": 154,
    "start_time": "2021-12-09T07:13:36.380Z"
   },
   {
    "duration": 2285,
    "start_time": "2021-12-09T07:13:41.627Z"
   },
   {
    "duration": 2237,
    "start_time": "2021-12-09T07:13:54.651Z"
   },
   {
    "duration": 2294,
    "start_time": "2021-12-09T07:15:40.078Z"
   },
   {
    "duration": 2595,
    "start_time": "2021-12-09T07:15:46.005Z"
   },
   {
    "duration": 2205,
    "start_time": "2021-12-09T07:15:58.478Z"
   },
   {
    "duration": 2466,
    "start_time": "2021-12-09T07:16:06.874Z"
   },
   {
    "duration": 2489,
    "start_time": "2021-12-09T07:16:13.100Z"
   },
   {
    "duration": 2456,
    "start_time": "2021-12-09T07:16:22.670Z"
   },
   {
    "duration": 53717,
    "start_time": "2021-12-09T07:18:32.975Z"
   },
   {
    "duration": 1607,
    "start_time": "2021-12-09T07:21:01.907Z"
   },
   {
    "duration": 23157,
    "start_time": "2021-12-09T07:21:22.052Z"
   },
   {
    "duration": 2613,
    "start_time": "2021-12-09T07:22:33.515Z"
   },
   {
    "duration": 259,
    "start_time": "2021-12-09T07:22:48.937Z"
   },
   {
    "duration": 2462,
    "start_time": "2021-12-09T07:22:52.903Z"
   },
   {
    "duration": 2491,
    "start_time": "2021-12-09T07:23:40.416Z"
   },
   {
    "duration": 240,
    "start_time": "2021-12-09T07:23:57.925Z"
   },
   {
    "duration": 34,
    "start_time": "2021-12-09T07:25:30.071Z"
   },
   {
    "duration": 2217,
    "start_time": "2021-12-09T07:25:44.782Z"
   },
   {
    "duration": 2179,
    "start_time": "2021-12-09T07:27:07.277Z"
   },
   {
    "duration": 2201,
    "start_time": "2021-12-09T07:30:08.799Z"
   },
   {
    "duration": 407,
    "start_time": "2021-12-09T07:35:55.819Z"
   },
   {
    "duration": 460,
    "start_time": "2021-12-09T07:36:41.769Z"
   },
   {
    "duration": 91,
    "start_time": "2021-12-09T07:36:50.076Z"
   },
   {
    "duration": 244,
    "start_time": "2021-12-09T07:36:54.001Z"
   },
   {
    "duration": 246,
    "start_time": "2021-12-09T07:37:44.129Z"
   },
   {
    "duration": 361,
    "start_time": "2021-12-10T10:10:06.782Z"
   },
   {
    "duration": 1716,
    "start_time": "2021-12-10T10:10:16.693Z"
   },
   {
    "duration": 19,
    "start_time": "2021-12-10T10:10:18.412Z"
   },
   {
    "duration": 9,
    "start_time": "2021-12-10T10:10:18.435Z"
   },
   {
    "duration": 10,
    "start_time": "2021-12-10T10:10:18.447Z"
   },
   {
    "duration": 10,
    "start_time": "2021-12-10T10:10:18.460Z"
   },
   {
    "duration": 51,
    "start_time": "2021-12-10T10:10:18.472Z"
   },
   {
    "duration": 28,
    "start_time": "2021-12-10T10:10:18.527Z"
   },
   {
    "duration": 92,
    "start_time": "2021-12-10T10:10:18.557Z"
   },
   {
    "duration": 453,
    "start_time": "2021-12-10T10:10:18.653Z"
   },
   {
    "duration": 26290,
    "start_time": "2021-12-10T10:10:19.109Z"
   },
   {
    "duration": 43,
    "start_time": "2021-12-10T10:10:45.401Z"
   },
   {
    "duration": 1251,
    "start_time": "2021-12-10T10:10:45.447Z"
   },
   {
    "duration": 11,
    "start_time": "2021-12-10T10:10:46.701Z"
   },
   {
    "duration": 1029,
    "start_time": "2021-12-10T10:10:46.723Z"
   },
   {
    "duration": 71,
    "start_time": "2021-12-10T10:10:47.754Z"
   },
   {
    "duration": 1172,
    "start_time": "2021-12-10T10:10:47.828Z"
   },
   {
    "duration": 49711,
    "start_time": "2021-12-10T10:10:49.003Z"
   },
   {
    "duration": 22234,
    "start_time": "2021-12-10T10:11:38.723Z"
   },
   {
    "duration": 2513,
    "start_time": "2021-12-10T10:12:00.959Z"
   },
   {
    "duration": 2396,
    "start_time": "2021-12-10T10:12:03.474Z"
   },
   {
    "duration": 2363,
    "start_time": "2021-12-10T10:12:05.872Z"
   },
   {
    "duration": 253,
    "start_time": "2021-12-10T10:12:08.237Z"
   },
   {
    "duration": 237,
    "start_time": "2021-12-10T10:12:08.492Z"
   },
   {
    "duration": 2116,
    "start_time": "2021-12-10T10:12:08.731Z"
   },
   {
    "duration": 248,
    "start_time": "2021-12-10T10:12:10.849Z"
   },
   {
    "duration": 115,
    "start_time": "2021-12-10T11:06:14.367Z"
   },
   {
    "duration": 2059,
    "start_time": "2021-12-10T11:06:20.828Z"
   },
   {
    "duration": 1513,
    "start_time": "2021-12-10T11:06:47.081Z"
   },
   {
    "duration": 25,
    "start_time": "2021-12-10T11:06:48.598Z"
   },
   {
    "duration": 23,
    "start_time": "2021-12-10T11:06:48.627Z"
   },
   {
    "duration": 17,
    "start_time": "2021-12-10T11:06:48.654Z"
   },
   {
    "duration": 38,
    "start_time": "2021-12-10T11:06:48.673Z"
   },
   {
    "duration": 34,
    "start_time": "2021-12-10T11:06:48.713Z"
   },
   {
    "duration": 23,
    "start_time": "2021-12-10T11:06:48.749Z"
   },
   {
    "duration": 65,
    "start_time": "2021-12-10T11:06:48.774Z"
   },
   {
    "duration": 461,
    "start_time": "2021-12-10T11:06:48.843Z"
   },
   {
    "duration": 26081,
    "start_time": "2021-12-10T11:06:49.307Z"
   },
   {
    "duration": 46,
    "start_time": "2021-12-10T11:07:15.390Z"
   },
   {
    "duration": 1195,
    "start_time": "2021-12-10T11:07:15.523Z"
   },
   {
    "duration": 12,
    "start_time": "2021-12-10T11:07:16.723Z"
   },
   {
    "duration": 1093,
    "start_time": "2021-12-10T11:07:16.738Z"
   },
   {
    "duration": 91,
    "start_time": "2021-12-10T11:07:17.834Z"
   },
   {
    "duration": 1211,
    "start_time": "2021-12-10T11:07:17.929Z"
   },
   {
    "duration": 49552,
    "start_time": "2021-12-10T11:07:19.142Z"
   },
   {
    "duration": 23529,
    "start_time": "2021-12-10T11:08:08.696Z"
   },
   {
    "duration": 2553,
    "start_time": "2021-12-10T11:08:32.227Z"
   },
   {
    "duration": 2616,
    "start_time": "2021-12-10T11:08:34.783Z"
   },
   {
    "duration": 2435,
    "start_time": "2021-12-10T11:08:37.401Z"
   },
   {
    "duration": 255,
    "start_time": "2021-12-10T11:08:39.839Z"
   },
   {
    "duration": 247,
    "start_time": "2021-12-10T11:08:40.096Z"
   },
   {
    "duration": 2198,
    "start_time": "2021-12-10T11:08:40.345Z"
   },
   {
    "duration": 255,
    "start_time": "2021-12-10T11:08:42.546Z"
   },
   {
    "duration": 1501,
    "start_time": "2021-12-10T11:11:54.194Z"
   },
   {
    "duration": 18,
    "start_time": "2021-12-10T11:11:55.698Z"
   },
   {
    "duration": 12,
    "start_time": "2021-12-10T11:11:55.723Z"
   },
   {
    "duration": 12,
    "start_time": "2021-12-10T11:11:55.738Z"
   },
   {
    "duration": 13,
    "start_time": "2021-12-10T11:11:55.753Z"
   },
   {
    "duration": 64,
    "start_time": "2021-12-10T11:11:55.768Z"
   },
   {
    "duration": 27,
    "start_time": "2021-12-10T11:11:55.835Z"
   },
   {
    "duration": 94,
    "start_time": "2021-12-10T11:11:55.867Z"
   },
   {
    "duration": 451,
    "start_time": "2021-12-10T11:11:55.965Z"
   },
   {
    "duration": 28873,
    "start_time": "2021-12-10T11:11:56.418Z"
   },
   {
    "duration": 45,
    "start_time": "2021-12-10T11:12:25.294Z"
   },
   {
    "duration": 1197,
    "start_time": "2021-12-10T11:12:25.427Z"
   },
   {
    "duration": 10,
    "start_time": "2021-12-10T11:12:26.627Z"
   },
   {
    "duration": 1100,
    "start_time": "2021-12-10T11:12:26.640Z"
   },
   {
    "duration": 84,
    "start_time": "2021-12-10T11:12:27.742Z"
   },
   {
    "duration": 1257,
    "start_time": "2021-12-10T11:12:27.829Z"
   },
   {
    "duration": 50649,
    "start_time": "2021-12-10T11:12:29.088Z"
   },
   {
    "duration": 22578,
    "start_time": "2021-12-10T11:13:19.740Z"
   },
   {
    "duration": 2420,
    "start_time": "2021-12-10T11:13:42.324Z"
   },
   {
    "duration": 2355,
    "start_time": "2021-12-10T11:13:44.746Z"
   },
   {
    "duration": 2358,
    "start_time": "2021-12-10T11:13:47.104Z"
   },
   {
    "duration": 251,
    "start_time": "2021-12-10T11:13:49.464Z"
   },
   {
    "duration": 239,
    "start_time": "2021-12-10T11:13:49.724Z"
   },
   {
    "duration": 2291,
    "start_time": "2021-12-10T11:13:49.966Z"
   },
   {
    "duration": 289,
    "start_time": "2021-12-10T11:13:52.260Z"
   },
   {
    "duration": 1132,
    "start_time": "2021-12-10T21:24:11.109Z"
   },
   {
    "duration": 13,
    "start_time": "2021-12-10T21:24:12.244Z"
   },
   {
    "duration": 7,
    "start_time": "2021-12-10T21:24:12.260Z"
   },
   {
    "duration": 8,
    "start_time": "2021-12-10T21:24:12.270Z"
   },
   {
    "duration": 9,
    "start_time": "2021-12-10T21:24:12.279Z"
   },
   {
    "duration": 21,
    "start_time": "2021-12-10T21:24:12.290Z"
   },
   {
    "duration": 54,
    "start_time": "2021-12-10T21:24:12.313Z"
   },
   {
    "duration": 43,
    "start_time": "2021-12-10T21:24:12.371Z"
   },
   {
    "duration": 1576,
    "start_time": "2021-12-10T21:24:12.417Z"
   },
   {
    "duration": 65022,
    "start_time": "2021-12-10T21:24:13.995Z"
   },
   {
    "duration": 51,
    "start_time": "2021-12-10T21:25:19.019Z"
   },
   {
    "duration": 1388,
    "start_time": "2021-12-10T21:25:19.073Z"
   },
   {
    "duration": -206,
    "start_time": "2021-12-10T21:25:20.670Z"
   },
   {
    "duration": -210,
    "start_time": "2021-12-10T21:25:20.675Z"
   },
   {
    "duration": -212,
    "start_time": "2021-12-10T21:25:20.678Z"
   },
   {
    "duration": -315,
    "start_time": "2021-12-10T21:25:20.783Z"
   },
   {
    "duration": -317,
    "start_time": "2021-12-10T21:25:20.786Z"
   },
   {
    "duration": -326,
    "start_time": "2021-12-10T21:25:20.796Z"
   },
   {
    "duration": -328,
    "start_time": "2021-12-10T21:25:20.800Z"
   },
   {
    "duration": -330,
    "start_time": "2021-12-10T21:25:20.803Z"
   },
   {
    "duration": -333,
    "start_time": "2021-12-10T21:25:20.808Z"
   },
   {
    "duration": -335,
    "start_time": "2021-12-10T21:25:20.811Z"
   },
   {
    "duration": -337,
    "start_time": "2021-12-10T21:25:20.814Z"
   },
   {
    "duration": -337,
    "start_time": "2021-12-10T21:25:20.816Z"
   },
   {
    "duration": -339,
    "start_time": "2021-12-10T21:25:20.819Z"
   },
   {
    "duration": 1141,
    "start_time": "2021-12-10T21:26:19.307Z"
   },
   {
    "duration": 12,
    "start_time": "2021-12-10T21:26:20.449Z"
   },
   {
    "duration": 23,
    "start_time": "2021-12-10T21:26:20.463Z"
   },
   {
    "duration": 20,
    "start_time": "2021-12-10T21:26:20.488Z"
   },
   {
    "duration": 13,
    "start_time": "2021-12-10T21:26:20.509Z"
   },
   {
    "duration": 32,
    "start_time": "2021-12-10T21:26:20.524Z"
   },
   {
    "duration": 17,
    "start_time": "2021-12-10T21:26:20.558Z"
   },
   {
    "duration": 39,
    "start_time": "2021-12-10T21:26:20.577Z"
   },
   {
    "duration": 1466,
    "start_time": "2021-12-10T21:26:20.618Z"
   },
   {
    "duration": 64548,
    "start_time": "2021-12-10T21:26:22.086Z"
   },
   {
    "duration": 36,
    "start_time": "2021-12-10T21:27:26.635Z"
   },
   {
    "duration": 204,
    "start_time": "2021-12-10T21:27:26.674Z"
   },
   {
    "duration": 7,
    "start_time": "2021-12-10T21:27:26.880Z"
   },
   {
    "duration": 743,
    "start_time": "2021-12-10T21:27:26.889Z"
   },
   {
    "duration": -221,
    "start_time": "2021-12-10T21:27:27.855Z"
   },
   {
    "duration": -227,
    "start_time": "2021-12-10T21:27:27.862Z"
   },
   {
    "duration": -230,
    "start_time": "2021-12-10T21:27:27.866Z"
   },
   {
    "duration": -339,
    "start_time": "2021-12-10T21:27:27.976Z"
   },
   {
    "duration": -349,
    "start_time": "2021-12-10T21:27:27.987Z"
   },
   {
    "duration": -352,
    "start_time": "2021-12-10T21:27:27.991Z"
   },
   {
    "duration": -354,
    "start_time": "2021-12-10T21:27:27.994Z"
   },
   {
    "duration": -356,
    "start_time": "2021-12-10T21:27:27.997Z"
   },
   {
    "duration": -360,
    "start_time": "2021-12-10T21:27:28.002Z"
   },
   {
    "duration": -363,
    "start_time": "2021-12-10T21:27:28.006Z"
   },
   {
    "duration": -365,
    "start_time": "2021-12-10T21:27:28.009Z"
   },
   {
    "duration": 1194,
    "start_time": "2021-12-10T21:31:23.853Z"
   },
   {
    "duration": 12,
    "start_time": "2021-12-10T21:31:25.048Z"
   },
   {
    "duration": 20,
    "start_time": "2021-12-10T21:31:25.062Z"
   },
   {
    "duration": 29,
    "start_time": "2021-12-10T21:31:25.084Z"
   },
   {
    "duration": 18,
    "start_time": "2021-12-10T21:31:25.114Z"
   },
   {
    "duration": 31,
    "start_time": "2021-12-10T21:31:25.133Z"
   },
   {
    "duration": 20,
    "start_time": "2021-12-10T21:31:25.166Z"
   },
   {
    "duration": 47,
    "start_time": "2021-12-10T21:31:25.188Z"
   },
   {
    "duration": 1444,
    "start_time": "2021-12-10T21:31:25.236Z"
   },
   {
    "duration": 46648,
    "start_time": "2021-12-10T21:31:26.682Z"
   },
   {
    "duration": 40,
    "start_time": "2021-12-10T21:32:13.332Z"
   },
   {
    "duration": 124,
    "start_time": "2021-12-10T21:32:13.462Z"
   },
   {
    "duration": 7,
    "start_time": "2021-12-10T21:32:13.588Z"
   },
   {
    "duration": 34,
    "start_time": "2021-12-10T21:32:13.597Z"
   },
   {
    "duration": 43,
    "start_time": "2021-12-10T21:32:13.633Z"
   },
   {
    "duration": 202,
    "start_time": "2021-12-10T21:32:13.678Z"
   },
   {
    "duration": 2321,
    "start_time": "2021-12-10T21:32:13.882Z"
   },
   {
    "duration": 1274,
    "start_time": "2021-12-10T21:32:16.205Z"
   },
   {
    "duration": 102,
    "start_time": "2021-12-10T21:32:17.481Z"
   },
   {
    "duration": 41,
    "start_time": "2021-12-10T21:32:17.585Z"
   },
   {
    "duration": 62,
    "start_time": "2021-12-10T21:32:17.627Z"
   },
   {
    "duration": 151,
    "start_time": "2021-12-10T21:32:17.691Z"
   },
   {
    "duration": 147,
    "start_time": "2021-12-10T21:32:17.845Z"
   },
   {
    "duration": 52,
    "start_time": "2021-12-10T21:32:17.994Z"
   },
   {
    "duration": 160,
    "start_time": "2021-12-10T21:32:18.047Z"
   },
   {
    "duration": 1930,
    "start_time": "2021-12-10T21:32:54.584Z"
   },
   {
    "duration": 1894,
    "start_time": "2021-12-10T21:33:07.773Z"
   },
   {
    "duration": 1610,
    "start_time": "2021-12-10T21:33:19.668Z"
   },
   {
    "duration": 1782,
    "start_time": "2021-12-10T21:33:29.618Z"
   },
   {
    "duration": 2039,
    "start_time": "2021-12-10T21:33:39.496Z"
   },
   {
    "duration": 1761,
    "start_time": "2021-12-10T21:33:46.794Z"
   },
   {
    "duration": 1180,
    "start_time": "2021-12-10T21:35:09.752Z"
   },
   {
    "duration": 12,
    "start_time": "2021-12-10T21:35:10.934Z"
   },
   {
    "duration": 13,
    "start_time": "2021-12-10T21:35:10.948Z"
   },
   {
    "duration": 11,
    "start_time": "2021-12-10T21:35:10.963Z"
   },
   {
    "duration": 9,
    "start_time": "2021-12-10T21:35:10.975Z"
   },
   {
    "duration": 19,
    "start_time": "2021-12-10T21:35:10.986Z"
   },
   {
    "duration": 15,
    "start_time": "2021-12-10T21:35:11.006Z"
   },
   {
    "duration": 71,
    "start_time": "2021-12-10T21:35:11.023Z"
   },
   {
    "duration": 1435,
    "start_time": "2021-12-10T21:35:11.096Z"
   },
   {
    "duration": 46696,
    "start_time": "2021-12-10T21:35:12.533Z"
   },
   {
    "duration": 132,
    "start_time": "2021-12-10T21:35:59.231Z"
   },
   {
    "duration": 116,
    "start_time": "2021-12-10T21:35:59.366Z"
   },
   {
    "duration": 6,
    "start_time": "2021-12-10T21:35:59.484Z"
   },
   {
    "duration": 40,
    "start_time": "2021-12-10T21:35:59.492Z"
   },
   {
    "duration": 38,
    "start_time": "2021-12-10T21:35:59.534Z"
   },
   {
    "duration": 207,
    "start_time": "2021-12-10T21:35:59.575Z"
   },
   {
    "duration": 1821,
    "start_time": "2021-12-10T21:35:59.783Z"
   },
   {
    "duration": 1299,
    "start_time": "2021-12-10T21:36:01.605Z"
   },
   {
    "duration": 92,
    "start_time": "2021-12-10T21:36:02.905Z"
   },
   {
    "duration": 32,
    "start_time": "2021-12-10T21:36:02.998Z"
   },
   {
    "duration": 55,
    "start_time": "2021-12-10T21:36:03.031Z"
   },
   {
    "duration": 153,
    "start_time": "2021-12-10T21:36:03.088Z"
   },
   {
    "duration": 153,
    "start_time": "2021-12-10T21:36:03.244Z"
   },
   {
    "duration": 48,
    "start_time": "2021-12-10T21:36:03.399Z"
   },
   {
    "duration": 148,
    "start_time": "2021-12-10T21:36:03.463Z"
   },
   {
    "duration": 19,
    "start_time": "2021-12-10T21:53:27.037Z"
   },
   {
    "duration": 1183,
    "start_time": "2021-12-10T21:54:10.969Z"
   },
   {
    "duration": 12,
    "start_time": "2021-12-10T21:54:12.154Z"
   },
   {
    "duration": 7,
    "start_time": "2021-12-10T21:54:12.168Z"
   },
   {
    "duration": 11,
    "start_time": "2021-12-10T21:54:12.177Z"
   },
   {
    "duration": 9,
    "start_time": "2021-12-10T21:54:12.189Z"
   },
   {
    "duration": 20,
    "start_time": "2021-12-10T21:54:12.199Z"
   },
   {
    "duration": 43,
    "start_time": "2021-12-10T21:54:12.221Z"
   },
   {
    "duration": 43,
    "start_time": "2021-12-10T21:54:12.267Z"
   },
   {
    "duration": 1457,
    "start_time": "2021-12-10T21:54:12.313Z"
   },
   {
    "duration": 46532,
    "start_time": "2021-12-10T21:54:13.772Z"
   },
   {
    "duration": 62,
    "start_time": "2021-12-10T21:55:00.305Z"
   },
   {
    "duration": 119,
    "start_time": "2021-12-10T21:55:00.370Z"
   },
   {
    "duration": 7,
    "start_time": "2021-12-10T21:55:00.491Z"
   },
   {
    "duration": 36,
    "start_time": "2021-12-10T21:55:00.500Z"
   },
   {
    "duration": 44,
    "start_time": "2021-12-10T21:55:00.537Z"
   },
   {
    "duration": 198,
    "start_time": "2021-12-10T21:55:00.583Z"
   },
   {
    "duration": 1810,
    "start_time": "2021-12-10T21:55:00.783Z"
   },
   {
    "duration": 1283,
    "start_time": "2021-12-10T21:55:02.595Z"
   },
   {
    "duration": 83,
    "start_time": "2021-12-10T21:55:03.880Z"
   },
   {
    "duration": 20,
    "start_time": "2021-12-10T21:55:03.965Z"
   },
   {
    "duration": 28,
    "start_time": "2021-12-10T21:55:03.987Z"
   },
   {
    "duration": 182,
    "start_time": "2021-12-10T21:55:04.017Z"
   },
   {
    "duration": 151,
    "start_time": "2021-12-10T21:55:04.201Z"
   },
   {
    "duration": 36,
    "start_time": "2021-12-10T21:55:04.354Z"
   },
   {
    "duration": 186,
    "start_time": "2021-12-10T21:55:04.391Z"
   },
   {
    "duration": 1064,
    "start_time": "2021-12-10T21:58:59.772Z"
   },
   {
    "duration": 1095,
    "start_time": "2021-12-10T21:59:09.132Z"
   },
   {
    "duration": 1031,
    "start_time": "2021-12-10T21:59:16.848Z"
   },
   {
    "duration": 962,
    "start_time": "2021-12-10T21:59:29.458Z"
   },
   {
    "duration": 919,
    "start_time": "2021-12-10T21:59:59.884Z"
   },
   {
    "duration": 933,
    "start_time": "2021-12-10T22:00:08.831Z"
   },
   {
    "duration": 933,
    "start_time": "2021-12-10T22:00:16.184Z"
   },
   {
    "duration": 883,
    "start_time": "2021-12-10T22:00:22.383Z"
   },
   {
    "duration": 916,
    "start_time": "2021-12-10T22:00:29.097Z"
   },
   {
    "duration": 829,
    "start_time": "2021-12-10T22:00:48.294Z"
   },
   {
    "duration": 1219,
    "start_time": "2021-12-10T22:00:57.961Z"
   },
   {
    "duration": 909,
    "start_time": "2021-12-10T22:01:05.384Z"
   },
   {
    "duration": 1217,
    "start_time": "2021-12-10T22:04:34.532Z"
   },
   {
    "duration": 13,
    "start_time": "2021-12-10T22:04:35.751Z"
   },
   {
    "duration": 10,
    "start_time": "2021-12-10T22:04:35.766Z"
   },
   {
    "duration": 8,
    "start_time": "2021-12-10T22:04:35.779Z"
   },
   {
    "duration": 9,
    "start_time": "2021-12-10T22:04:35.789Z"
   },
   {
    "duration": 22,
    "start_time": "2021-12-10T22:04:35.800Z"
   },
   {
    "duration": 51,
    "start_time": "2021-12-10T22:04:35.824Z"
   },
   {
    "duration": 44,
    "start_time": "2021-12-10T22:04:35.877Z"
   },
   {
    "duration": 1457,
    "start_time": "2021-12-10T22:04:35.924Z"
   },
   {
    "duration": 45279,
    "start_time": "2021-12-10T22:04:37.384Z"
   },
   {
    "duration": 22,
    "start_time": "2021-12-10T22:05:22.665Z"
   },
   {
    "duration": 189,
    "start_time": "2021-12-10T22:05:22.689Z"
   },
   {
    "duration": 7,
    "start_time": "2021-12-10T22:05:22.879Z"
   },
   {
    "duration": 26,
    "start_time": "2021-12-10T22:05:22.888Z"
   },
   {
    "duration": 149,
    "start_time": "2021-12-10T22:05:22.916Z"
   },
   {
    "duration": 28,
    "start_time": "2021-12-10T22:05:23.068Z"
   },
   {
    "duration": 1793,
    "start_time": "2021-12-10T22:05:23.164Z"
   },
   {
    "duration": 859,
    "start_time": "2021-12-10T22:05:24.958Z"
   },
   {
    "duration": 80,
    "start_time": "2021-12-10T22:05:25.819Z"
   },
   {
    "duration": 13,
    "start_time": "2021-12-10T22:05:25.901Z"
   },
   {
    "duration": 49,
    "start_time": "2021-12-10T22:05:25.916Z"
   },
   {
    "duration": 152,
    "start_time": "2021-12-10T22:05:25.966Z"
   },
   {
    "duration": 151,
    "start_time": "2021-12-10T22:05:26.120Z"
   },
   {
    "duration": 26,
    "start_time": "2021-12-10T22:05:26.273Z"
   },
   {
    "duration": 166,
    "start_time": "2021-12-10T22:05:26.301Z"
   },
   {
    "duration": 562,
    "start_time": "2021-12-10T22:29:06.281Z"
   },
   {
    "duration": 138,
    "start_time": "2021-12-10T22:29:17.401Z"
   },
   {
    "duration": 216,
    "start_time": "2021-12-10T22:29:31.321Z"
   },
   {
    "duration": 1144,
    "start_time": "2021-12-10T22:29:58.502Z"
   },
   {
    "duration": 14,
    "start_time": "2021-12-10T22:29:59.647Z"
   },
   {
    "duration": 9,
    "start_time": "2021-12-10T22:29:59.663Z"
   },
   {
    "duration": 7,
    "start_time": "2021-12-10T22:29:59.674Z"
   },
   {
    "duration": 7,
    "start_time": "2021-12-10T22:29:59.683Z"
   },
   {
    "duration": 19,
    "start_time": "2021-12-10T22:29:59.692Z"
   },
   {
    "duration": 16,
    "start_time": "2021-12-10T22:29:59.713Z"
   },
   {
    "duration": 71,
    "start_time": "2021-12-10T22:29:59.730Z"
   },
   {
    "duration": 1467,
    "start_time": "2021-12-10T22:29:59.803Z"
   },
   {
    "duration": 46356,
    "start_time": "2021-12-10T22:30:01.273Z"
   },
   {
    "duration": 43,
    "start_time": "2021-12-10T22:30:47.631Z"
   },
   {
    "duration": 118,
    "start_time": "2021-12-10T22:30:47.765Z"
   },
   {
    "duration": 8,
    "start_time": "2021-12-10T22:30:47.885Z"
   },
   {
    "duration": 28,
    "start_time": "2021-12-10T22:30:47.895Z"
   },
   {
    "duration": 140,
    "start_time": "2021-12-10T22:30:47.925Z"
   },
   {
    "duration": 119,
    "start_time": "2021-12-10T22:30:48.067Z"
   },
   {
    "duration": 1799,
    "start_time": "2021-12-10T22:30:48.188Z"
   },
   {
    "duration": 859,
    "start_time": "2021-12-10T22:30:49.988Z"
   },
   {
    "duration": 68,
    "start_time": "2021-12-10T22:30:50.849Z"
   },
   {
    "duration": 12,
    "start_time": "2021-12-10T22:30:50.919Z"
   },
   {
    "duration": 40,
    "start_time": "2021-12-10T22:30:50.932Z"
   },
   {
    "duration": 153,
    "start_time": "2021-12-10T22:30:50.974Z"
   },
   {
    "duration": 149,
    "start_time": "2021-12-10T22:30:51.129Z"
   },
   {
    "duration": 24,
    "start_time": "2021-12-10T22:30:51.280Z"
   },
   {
    "duration": 164,
    "start_time": "2021-12-10T22:30:51.305Z"
   }
  ],
  "kernelspec": {
   "display_name": "Python 3 (ipykernel)",
   "language": "python",
   "name": "python3"
  },
  "language_info": {
   "codemirror_mode": {
    "name": "ipython",
    "version": 3
   },
   "file_extension": ".py",
   "mimetype": "text/x-python",
   "name": "python",
   "nbconvert_exporter": "python",
   "pygments_lexer": "ipython3",
   "version": "3.9.5"
  },
  "toc": {
   "base_numbering": 1,
   "nav_menu": {},
   "number_sections": true,
   "sideBar": true,
   "skip_h1_title": true,
   "title_cell": "Table of Contents",
   "title_sidebar": "Contents",
   "toc_cell": false,
   "toc_position": {},
   "toc_section_display": true,
   "toc_window_display": false
  }
 },
 "nbformat": 4,
 "nbformat_minor": 2
}
